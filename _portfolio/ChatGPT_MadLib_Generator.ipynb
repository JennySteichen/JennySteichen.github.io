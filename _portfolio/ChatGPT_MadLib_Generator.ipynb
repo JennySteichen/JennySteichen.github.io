{
 "cells": [
  {
   "cell_type": "markdown",
   "metadata": {},
   "source": [
    "# Creating Mad Libs with ChatGPT\n",
    "\n",
    "[Mad Libs](https://en.wikipedia.org/wiki/Mad_Libs) is a party game for lightening up family holidays, baby showers, and more.  Each game consists of a short story with many key words replace by blanks.  To play the game, one person, the “writer”, goes through each blank in the story and and asks the rest of the players to give a noun, verb, place, etc that is indicated by the blank.  When all the blanks are filled, the completed story is read aloud.  The resulting story is usually silly, comical, or surreal.  \n",
    "\n",
    "[OpenAI’s ChatGPT](https://openai.com/blog/chatgpt/) has been in the news – teachers are afraid that students will use it to write their essays, it can pass exams, and people use it to write their resumes.  \n",
    "\n",
    "I wondered if ChatGPT could be funny. Can ChatGPT create a short, silly story like the Mad Libs stories?  This is a description of my exploration of that question."
   ]
  },
  {
   "cell_type": "markdown",
   "metadata": {},
   "source": [
    "## Example Mad Lib\n",
    "Run the cell below to see a sample Mad Lib downloaded from the site https://www.madlibs.com/printables/\n",
    "This is what I want ChatGPT to create: a short story with blanks with captions.  The blanks are frequent enough to make the resulting story interesting after other players give words to fill in the blanks."
   ]
  },
  {
   "cell_type": "code",
   "execution_count": 1,
   "metadata": {},
   "outputs": [
    {
     "data": {
      "text/html": [
       "\n",
       "        <iframe\n",
       "            width=\"600\"\n",
       "            height=\"400\"\n",
       "            src=\"./VacationFun_ML_2009_pg15.pdf\"\n",
       "            frameborder=\"0\"\n",
       "            allowfullscreen\n",
       "            \n",
       "        ></iframe>\n",
       "        "
      ],
      "text/plain": [
       "<IPython.lib.display.IFrame at 0x7f6644def5b0>"
      ]
     },
     "execution_count": 1,
     "metadata": {},
     "output_type": "execute_result"
    }
   ],
   "source": [
    "from IPython.display import IFrame\n",
    "IFrame(\"./VacationFun_ML_2009_pg15.pdf\", width=600, height=400)"
   ]
  },
  {
   "cell_type": "markdown",
   "metadata": {},
   "source": [
    "## Import Libraries and Access API Key"
   ]
  },
  {
   "cell_type": "code",
   "execution_count": 2,
   "metadata": {},
   "outputs": [],
   "source": [
    "# Import openai to access ChatGPT\n",
    "import openai\n",
    "\n",
    "# To wrap the text nicely on the screen\n",
    "import textwrap\n",
    "\n",
    "# For accessing an environmental variable\n",
    "import os"
   ]
  },
  {
   "cell_type": "markdown",
   "metadata": {},
   "source": [
    "To run ChatGPT in this notebook, you need an OpenAI API key.  \n",
    "To get a key: [open an account at OpenAI](https://auth0.openai.com/u/signup/), then click on your profile at the top right.  Select “View API keys.\"  Then, either use one of your existing keys or create a new one by clicking on “Create new secret key.\" \n",
    "\n",
    "Once you have a key, save is as the environmental variable [OPENAI_API_KEY](https://help.openai.com/en/articles/5112595-best-practices-for-api-key-safety)"
   ]
  },
  {
   "cell_type": "code",
   "execution_count": 3,
   "metadata": {},
   "outputs": [],
   "source": [
    "# Read the key from the environmental variable OPENAI_API_KEY\n",
    "openai.api_key = os.environ['OPENAI_API_KEY']"
   ]
  },
  {
   "cell_type": "markdown",
   "metadata": {},
   "source": [
    "## Creating A Mad Lib With Different Prompts\n",
    "\n",
    "I experimented with different prompts to get example MadLibs created by ChatGPT.  We pass each prompt to the following create_mad_lib function."
   ]
  },
  {
   "cell_type": "markdown",
   "metadata": {},
   "source": [
    "### Create Mad Lib Function\n",
    "\n",
    "This create_mad_libs function creates a Mad Lib using ChatGPT based on the prompt_text.   We will later call this function with different prompts to see samples of the output. \n",
    "\n",
    "The current function returns the same story for a given prompt.  If you'd like to see random stories using the same prompt, then change the temperature value on line 8 to 0.7 instead of 1 below.  Once you make this change, you can run the cells with prompts repeatedly to get different mad libs as output."
   ]
  },
  {
   "cell_type": "code",
   "execution_count": 4,
   "metadata": {},
   "outputs": [],
   "source": [
    "# We will later call this function with different prompts\n",
    "# This function calls ChatGPT to \n",
    "def create_mad_lib(prompt_text):\n",
    "    \n",
    "    # Get the openAI ChatGPT object\n",
    "    completion = openai.Completion.create(model=\"text-davinci-003\",\n",
    "             prompt=prompt_text,\n",
    "             max_tokens=1000, temperature=1)\n",
    "\n",
    "    # Print story\n",
    "    print(textwrap.fill(completion.choices[0].text))"
   ]
  },
  {
   "cell_type": "markdown",
   "metadata": {},
   "source": [
    "-----\n",
    "\n",
    "## Exploring Prompts\n",
    "We explore the results obtained by varying the prompts (known as [Prompt Engineering](https://www.linkedin.com/pulse/prompt-engineering-101-introduction-resources-amatriain/)) to \n",
    "obtain a story that seems the closest to an original Mad Lib in terms of story length, appropriately captionned blank spaces, density of blanks, and interesting story."
   ]
  },
  {
   "cell_type": "markdown",
   "metadata": {},
   "source": [
    "\n",
    "### First Prompt: Write a Mad Lib"
   ]
  },
  {
   "cell_type": "markdown",
   "metadata": {},
   "source": [
    "The first prompt was a basic \"Write a Mad Lib.\"  "
   ]
  },
  {
   "cell_type": "code",
   "execution_count": 5,
   "metadata": {},
   "outputs": [
    {
     "name": "stdout",
     "output_type": "stream",
     "text": [
      "  Once upon a time there lived a giant __cheese__. Every morning the\n",
      "giant cheese would wander __lazily__ through the enchanted forest in\n",
      "search of __pie__. Whenever the giant cheese found some pie, he would\n",
      "eat it __hungrily__. Everyone who lived in the forest was\n",
      "__terrified__ of the giant cheese, since he was so __capricious__. One\n",
      "day, a brave __pig__ named Roger decided he would try to befriend the\n",
      "giant cheese. He approached the giant cheese cautiously and said,\n",
      "\"Hello, I hope we can be __friends__.\" The giant cheese looked at him\n",
      "__quizzically__ and said, \"What's in it for me?\" Roger replied, \"Why,\n",
      "lots of __cookies__ and love!\" The giant cheese chuckled and said,\n",
      "\"OK, let's be friends!\" From then on, every morning the giant cheese\n",
      "and Roger would go __wandering__together in the forest, and eat __ice\n",
      "cream__.\n"
     ]
    }
   ],
   "source": [
    "mad_lib_prompt_1 = \"Write a Mad Lib.\"\n",
    "create_mad_lib(mad_lib_prompt_1)"
   ]
  },
  {
   "cell_type": "markdown",
   "metadata": {},
   "source": [
    "With this prompt, there have been a variety of results. The resulting story tends to be under 8 sentences long, which is a good length.  However, sometimes the story has no blanks; sometimes some of the blanks are filled in.  The stories tend to be a bit bland and start with \"Once Upon a Time.\""
   ]
  },
  {
   "cell_type": "markdown",
   "metadata": {},
   "source": [
    "### Second Prompt: Write a Mad Lib that is an adventure"
   ]
  },
  {
   "cell_type": "markdown",
   "metadata": {},
   "source": [
    "To fix the issue of bland stories, the second prompt added \"that is an adventure.\"  "
   ]
  },
  {
   "cell_type": "code",
   "execution_count": 6,
   "metadata": {
    "scrolled": true
   },
   "outputs": [
    {
     "name": "stdout",
     "output_type": "stream",
     "text": [
      "  Once upon a time, there was a brave and daring __________ (noun)\n",
      "named __(name)____ who had always dreamed of going on a grand\n",
      "adventure that would take them to the corners of the earth. After\n",
      "months of planning and preparation, __(name)___ was finally ready for\n",
      "their journey. With a single boat and a _________(noun) full of\n",
      "provisions, __(name)__ set sail for an unknown destination.  As they\n",
      "ventured out into the vast ocean, __(name)___ encountered many\n",
      "interesting things, including a giant ________(noun) that was,\n",
      "thankfully, friendly and happy to help on their journey. After\n",
      "navigating through stormy seas, __(name)__ finally arrived at a\n",
      "beautiful island, surrounded by sparkling _________(noun). The island\n",
      "was filled with incredible creatures like flying _________(plural\n",
      "noun) and _________(plural noun).  In the deepest corner of the island\n",
      "was a mysterious _________(noun) that __(name)___ was determined to\n",
      "explore. With their _________(noun), __(name)__ entered the darkness.\n",
      "After a few thrilling minutes, __(name)___ found a secret passage\n",
      "leading to a hidden cave. It felt like the entrance to a magical\n",
      "world!   __(Name)___ rushed inside and were absolutely amazed by what\n",
      "they saw. Inside the cave were piles of beautiful _________(plural\n",
      "noun), and a magical _________(noun) guarding the entrance.\n",
      "__(Name)___ knew this was the start of an incredible adventure, and\n",
      "they couldn't wait to see what awaited!\n"
     ]
    }
   ],
   "source": [
    "mad_lib_prompt_2 = \"Write a Mad Lib that is an adventure.\"\n",
    "create_mad_lib(mad_lib_prompt_2)"
   ]
  },
  {
   "cell_type": "markdown",
   "metadata": {},
   "source": [
    "The resulting story is long for a standard Mad Lib.  It has the same trouble with prompts as with the first prompt.  The stories are more interesting than in the first case, but the stories tend to start with \"Once Upon a Time.\""
   ]
  },
  {
   "cell_type": "markdown",
   "metadata": {},
   "source": [
    "\n",
    "### Third Prompt: Multiple Sentences Describing Blanks"
   ]
  },
  {
   "cell_type": "markdown",
   "metadata": {},
   "source": [
    "To correct the problems with captionned blanks, I added more sentences of detail.  The prompt is now: \n",
    "\"Write a mad lib that is an adventure.  The result should have 15 blanks.  Each blank should be labeled with part of speech like: _________ (adjective).\""
   ]
  },
  {
   "cell_type": "code",
   "execution_count": 7,
   "metadata": {},
   "outputs": [
    {
     "name": "stdout",
     "output_type": "stream",
     "text": [
      "  Once upon a time, there was an __________ (adjective) princess who\n",
      "wanted an __________ (adjective) adventure. She set out on a quest\n",
      "with a __________ (noun) of __________ (plural noun) to a magical\n",
      "__________ (noun). On the way, she encountered a giant __________\n",
      "(noun) with multiple __________ (plural noun). She bravely fought this\n",
      "monster and eventually saved the __________ (plural noun) from the\n",
      "__________ (adjective) creature.   She then continued on her journey,\n",
      "discovering that the magical __________ (noun) was guarded by a\n",
      "powerful __________ (noun). The princess had to figure out a way to\n",
      "gain access to the magical __________ (noun). After a lot of\n",
      "__________ (noun), she finally conquered the powerful __________\n",
      "(noun) and gained access to the magical __________ (noun). She\n",
      "returned home to her kingdom victorious with the one treasure she had\n",
      "been searching for.\n"
     ]
    }
   ],
   "source": [
    "mad_lib_prompt_3 = \"Write a Mad Lib that is an adventure.  The result should have 15 blanks.  Each blank should\" \\\n",
    "              \"be labeled with part of speech like: _________ (adjective).\"\n",
    "create_mad_lib(mad_lib_prompt_3)"
   ]
  },
  {
   "cell_type": "markdown",
   "metadata": {},
   "source": [
    "The result does not always have 15 blanks; sometimes it only has 13.  Each blank is appropriately labeled.  The story is interesting and does not start with \"Once Upon a Time.\" However, it is longer than a standard Mad Lib"
   ]
  },
  {
   "cell_type": "code",
   "execution_count": 8,
   "metadata": {},
   "outputs": [],
   "source": [
    "### Fourth Prompt: Building on the Third Prompt"
   ]
  },
  {
   "cell_type": "code",
   "execution_count": 9,
   "metadata": {},
   "outputs": [
    {
     "name": "stdout",
     "output_type": "stream",
     "text": [
      "  The _________ (adjective) sun beat down on the _________ (adjective)\n",
      "adventurers as they set off on an incredible _________ (adverb)\n",
      "journey. Along the way, they encountered wild, _________ (adjective)\n",
      "animals and both _________ (adjective) and _________ (adjective)\n",
      "landscapes. The group plodded _________ (adverb) down winding,\n",
      "crumbling _________ (noun) paths and crossed a never-ending _________\n",
      "(noun). Finally, they arrived at their destination- a mysterious,\n",
      "_________ (adjective) castle! The adventurers were both _________\n",
      "(adjective) and _________ (adjective) in anticipation as they opened\n",
      "the _________ (noun) door, ready to tackle whatever amazing adventure\n",
      "lay ahead of them.\n"
     ]
    }
   ],
   "source": [
    "mad_lib_prompt_4 = \"Write a Mad Lib that is an adventure.  The result should have 15 blanks.  Each blank should\" \\\n",
    "        \"be labeled with part of speech like: _________ (adjective).  The result should have 8 or fewer sentences.\"\n",
    "create_mad_lib(mad_lib_prompt_4)"
   ]
  },
  {
   "cell_type": "markdown",
   "metadata": {},
   "source": [
    "We finally have a short story with appropriately labeled blanks, good spacing between the blanks, and an appropriate length."
   ]
  },
  {
   "cell_type": "markdown",
   "metadata": {},
   "source": [
    "## Conclusion\n",
    "The responses from ChatGPT can change over time -- ChatGPT may adapt to new information and training.  Rerunning the code could produce different results than I recieved on March 20, 2023.  \n",
    "\n",
    "However, with Generative Models in general and ChatGPT in particular, the prompt matters.\n",
    "\n",
    "While I judged the created Mad Libs from my experience with my experience with the original Mad Libs, a future \n",
    "study could include objective measures to compare the results.  Given a database of Mad Libs, we could compare number of sentences, number of blanks, and density of blanks.  Objective measurements of humor would be more difficult."
   ]
  }
 ],
 "metadata": {
  "anaconda-cloud": {},
  "kernelspec": {
   "display_name": "Python 3 (ipykernel)",
   "language": "python",
   "name": "python3"
  },
  "language_info": {
   "codemirror_mode": {
    "name": "ipython",
    "version": 3
   },
   "file_extension": ".py",
   "mimetype": "text/x-python",
   "name": "python",
   "nbconvert_exporter": "python",
   "pygments_lexer": "ipython3",
   "version": "3.10.6"
  }
 },
 "nbformat": 4,
 "nbformat_minor": 1
}
