{
 "cells": [
  {
   "cell_type": "markdown",
   "id": "1ac2711c",
   "metadata": {},
   "source": [
    "# Titanic Data Comparison\n",
    "\n",
    "[The legendary Titanic Machine Learning Competition](https://www.kaggle.com/c/titanic) has over 160,000 competitors using Machine Learning to predict the survivors from the 1912 crash of the oceanliner Titanic. \n",
    "Below is an outline of my submission that scored in the top 7%."
   ]
  },
  {
   "cell_type": "markdown",
   "id": "c976ff71",
   "metadata": {},
   "source": [
    "## Outline\n",
    "\n",
    "-  [Understanding the Data](#understanding). Importing data and files, understanding the basics, visualizing the data, and basic data statistics.\n",
    "- [Cleaning Data](#cleaning).  Combine data, impute missing data, convert categories to numeric, and remove outliers. \n",
    "- [Feature Engineering](#featureengineering). Create new features and tranform the given features.\n",
    "- [Data Preprocessing](#datapreprocessing).  Separate data into train and test sets, choose the features to drop before modeling.\n",
    "- [Creating Models](#basemodel).  Create a base model for comparison, create different types of models, tune the models, and build ensemble models."
   ]
  },
  {
   "cell_type": "markdown",
   "id": "b86c2d2a",
   "metadata": {},
   "source": [
    "<a id=\"understanding\"></a>\n",
    "# Understanding the Given Data\n",
    "\n",
    "## Importing Libaries"
   ]
  },
  {
   "cell_type": "code",
   "execution_count": 1,
   "id": "3960b21a",
   "metadata": {},
   "outputs": [],
   "source": [
    "# Import pandas for dataframes\n",
    "import pandas as pd\n",
    "\n",
    "# Import NumPy and math for math functions and calculations\n",
    "import numpy as np\n",
    "import math\n",
    "\n",
    "# Import Operating System functions for finding the local directory\n",
    "import os\n",
    "\n",
    "# Import plotting library to display data\n",
    "from matplotlib import pyplot as plt\n",
    "import seaborn as sns"
   ]
  },
  {
   "cell_type": "markdown",
   "id": "8fbd5e23",
   "metadata": {},
   "source": [
    "## Importing Data"
   ]
  },
  {
   "cell_type": "code",
   "execution_count": 2,
   "id": "b7f193d7",
   "metadata": {},
   "outputs": [],
   "source": [
    "# Input directory path\n",
    "dir_name = os.path.dirname(os.path.abspath(\"TitanicSurvivalPrediction.ipyb\"))\n",
    "\n",
    "# Read training dataset from same directory as this file\n",
    "data_file = os.path.join(dir_name, \"train.csv\")\n",
    "df_train = pd.read_csv(data_file)\n",
    "\n",
    "# Read test dataset from same directory as this file\n",
    "test_data_file = os.path.join(dir_name, \"test.csv\")\n",
    "df_test = pd.read_csv(test_data_file)"
   ]
  },
  {
   "cell_type": "markdown",
   "id": "05a300f1",
   "metadata": {},
   "source": [
    "<a id=\"understandbasics\"></a>\n",
    "## Basic Structure"
   ]
  },
  {
   "cell_type": "code",
   "execution_count": 3,
   "id": "941080f3",
   "metadata": {
    "scrolled": true
   },
   "outputs": [
    {
     "name": "stdout",
     "output_type": "stream",
     "text": [
      "<class 'pandas.core.frame.DataFrame'>\n",
      "RangeIndex: 891 entries, 0 to 890\n",
      "Data columns (total 12 columns):\n",
      " #   Column       Non-Null Count  Dtype  \n",
      "---  ------       --------------  -----  \n",
      " 0   PassengerId  891 non-null    int64  \n",
      " 1   Survived     891 non-null    int64  \n",
      " 2   Pclass       891 non-null    int64  \n",
      " 3   Name         891 non-null    object \n",
      " 4   Sex          891 non-null    object \n",
      " 5   Age          714 non-null    float64\n",
      " 6   SibSp        891 non-null    int64  \n",
      " 7   Parch        891 non-null    int64  \n",
      " 8   Ticket       891 non-null    object \n",
      " 9   Fare         891 non-null    float64\n",
      " 10  Cabin        204 non-null    object \n",
      " 11  Embarked     889 non-null    object \n",
      "dtypes: float64(2), int64(5), object(5)\n",
      "memory usage: 83.7+ KB\n"
     ]
    }
   ],
   "source": [
    "# Information on all columns\n",
    "df_train.info()"
   ]
  },
  {
   "cell_type": "code",
   "execution_count": 4,
   "id": "c5ec4618",
   "metadata": {
    "scrolled": true
   },
   "outputs": [
    {
     "data": {
      "text/html": [
       "<div>\n",
       "<style scoped>\n",
       "    .dataframe tbody tr th:only-of-type {\n",
       "        vertical-align: middle;\n",
       "    }\n",
       "\n",
       "    .dataframe tbody tr th {\n",
       "        vertical-align: top;\n",
       "    }\n",
       "\n",
       "    .dataframe thead th {\n",
       "        text-align: right;\n",
       "    }\n",
       "</style>\n",
       "<table border=\"1\" class=\"dataframe\">\n",
       "  <thead>\n",
       "    <tr style=\"text-align: right;\">\n",
       "      <th></th>\n",
       "      <th>PassengerId</th>\n",
       "      <th>Survived</th>\n",
       "      <th>Pclass</th>\n",
       "      <th>Name</th>\n",
       "      <th>Sex</th>\n",
       "      <th>Age</th>\n",
       "      <th>SibSp</th>\n",
       "      <th>Parch</th>\n",
       "      <th>Ticket</th>\n",
       "      <th>Fare</th>\n",
       "      <th>Cabin</th>\n",
       "      <th>Embarked</th>\n",
       "    </tr>\n",
       "  </thead>\n",
       "  <tbody>\n",
       "    <tr>\n",
       "      <th>0</th>\n",
       "      <td>1</td>\n",
       "      <td>0</td>\n",
       "      <td>3</td>\n",
       "      <td>Braund, Mr. Owen Harris</td>\n",
       "      <td>male</td>\n",
       "      <td>22.0</td>\n",
       "      <td>1</td>\n",
       "      <td>0</td>\n",
       "      <td>A/5 21171</td>\n",
       "      <td>7.2500</td>\n",
       "      <td>NaN</td>\n",
       "      <td>S</td>\n",
       "    </tr>\n",
       "    <tr>\n",
       "      <th>1</th>\n",
       "      <td>2</td>\n",
       "      <td>1</td>\n",
       "      <td>1</td>\n",
       "      <td>Cumings, Mrs. John Bradley (Florence Briggs Th...</td>\n",
       "      <td>female</td>\n",
       "      <td>38.0</td>\n",
       "      <td>1</td>\n",
       "      <td>0</td>\n",
       "      <td>PC 17599</td>\n",
       "      <td>71.2833</td>\n",
       "      <td>C85</td>\n",
       "      <td>C</td>\n",
       "    </tr>\n",
       "    <tr>\n",
       "      <th>2</th>\n",
       "      <td>3</td>\n",
       "      <td>1</td>\n",
       "      <td>3</td>\n",
       "      <td>Heikkinen, Miss. Laina</td>\n",
       "      <td>female</td>\n",
       "      <td>26.0</td>\n",
       "      <td>0</td>\n",
       "      <td>0</td>\n",
       "      <td>STON/O2. 3101282</td>\n",
       "      <td>7.9250</td>\n",
       "      <td>NaN</td>\n",
       "      <td>S</td>\n",
       "    </tr>\n",
       "    <tr>\n",
       "      <th>3</th>\n",
       "      <td>4</td>\n",
       "      <td>1</td>\n",
       "      <td>1</td>\n",
       "      <td>Futrelle, Mrs. Jacques Heath (Lily May Peel)</td>\n",
       "      <td>female</td>\n",
       "      <td>35.0</td>\n",
       "      <td>1</td>\n",
       "      <td>0</td>\n",
       "      <td>113803</td>\n",
       "      <td>53.1000</td>\n",
       "      <td>C123</td>\n",
       "      <td>S</td>\n",
       "    </tr>\n",
       "    <tr>\n",
       "      <th>4</th>\n",
       "      <td>5</td>\n",
       "      <td>0</td>\n",
       "      <td>3</td>\n",
       "      <td>Allen, Mr. William Henry</td>\n",
       "      <td>male</td>\n",
       "      <td>35.0</td>\n",
       "      <td>0</td>\n",
       "      <td>0</td>\n",
       "      <td>373450</td>\n",
       "      <td>8.0500</td>\n",
       "      <td>NaN</td>\n",
       "      <td>S</td>\n",
       "    </tr>\n",
       "  </tbody>\n",
       "</table>\n",
       "</div>"
      ],
      "text/plain": [
       "   PassengerId  Survived  Pclass  \\\n",
       "0            1         0       3   \n",
       "1            2         1       1   \n",
       "2            3         1       3   \n",
       "3            4         1       1   \n",
       "4            5         0       3   \n",
       "\n",
       "                                                Name     Sex   Age  SibSp  \\\n",
       "0                            Braund, Mr. Owen Harris    male  22.0      1   \n",
       "1  Cumings, Mrs. John Bradley (Florence Briggs Th...  female  38.0      1   \n",
       "2                             Heikkinen, Miss. Laina  female  26.0      0   \n",
       "3       Futrelle, Mrs. Jacques Heath (Lily May Peel)  female  35.0      1   \n",
       "4                           Allen, Mr. William Henry    male  35.0      0   \n",
       "\n",
       "   Parch            Ticket     Fare Cabin Embarked  \n",
       "0      0         A/5 21171   7.2500   NaN        S  \n",
       "1      0          PC 17599  71.2833   C85        C  \n",
       "2      0  STON/O2. 3101282   7.9250   NaN        S  \n",
       "3      0            113803  53.1000  C123        S  \n",
       "4      0            373450   8.0500   NaN        S  "
      ]
     },
     "execution_count": 4,
     "metadata": {},
     "output_type": "execute_result"
    }
   ],
   "source": [
    "# The first few rows\n",
    "df_train.head()"
   ]
  },
  {
   "cell_type": "code",
   "execution_count": 5,
   "id": "23125cb4",
   "metadata": {},
   "outputs": [
    {
     "name": "stdout",
     "output_type": "stream",
     "text": [
      "Number of passengers in training data: 891 and in test set 418\n"
     ]
    }
   ],
   "source": [
    "print(\"Number of passengers in training data:\", \n",
    "      len(df_train), \"and in test set\", len(df_test))"
   ]
  },
  {
   "cell_type": "markdown",
   "id": "3fb3d616",
   "metadata": {},
   "source": [
    "Notice:\n",
    "- Features Age and Cabin have missing values in the training set\n",
    "- Features are integer, float, and string (object)\n",
    "- 12 original features"
   ]
  },
  {
   "cell_type": "markdown",
   "id": "f3e20c5f",
   "metadata": {},
   "source": [
    "<a id=\"visualizing\"></a>\n",
    "## Visualizing Data\n",
    "\n",
    "### Visualizing Numeric Features"
   ]
  },
  {
   "cell_type": "code",
   "execution_count": 6,
   "id": "3eb6fcae",
   "metadata": {},
   "outputs": [
    {
     "data": {
      "image/png": "[encoded data removed]",
      "text/plain": [
       "<Figure size 432x288 with 1 Axes>"
      ]
     },
     "metadata": {
      "needs_background": "light"
     },
     "output_type": "display_data"
    },
    {
     "data": {
      "image/png": "[encoded data removed]",
      "text/plain": [
       "<Figure size 432x288 with 1 Axes>"
      ]
     },
     "metadata": {
      "needs_background": "light"
     },
     "output_type": "display_data"
    },
    {
     "data": {
      "image/png": "[encoded data removed]",
      "text/plain": [
       "<Figure size 432x288 with 1 Axes>"
      ]
     },
     "metadata": {
      "needs_background": "light"
     },
     "output_type": "display_data"
    },
    {
     "data": {
      "image/png": "[encoded data removed]",
      "text/plain": [
       "<Figure size 432x288 with 1 Axes>"
      ]
     },
     "metadata": {
      "needs_background": "light"
     },
     "output_type": "display_data"
    },
    {
     "data": {
      "image/png": "[encoded data removed]",
      "text/plain": [
       "<Figure size 432x288 with 1 Axes>"
      ]
     },
     "metadata": {
      "needs_background": "light"
     },
     "output_type": "display_data"
    },
    {
     "data": {
      "image/png": "[encoded data removed]",
      "text/plain": [
       "<Figure size 432x288 with 1 Axes>"
      ]
     },
     "metadata": {
      "needs_background": "light"
     },
     "output_type": "display_data"
    },
    {
     "data": {
      "image/png": "[encoded data removed]",
      "text/plain": [
       "<Figure size 432x288 with 1 Axes>"
      ]
     },
     "metadata": {
      "needs_background": "light"
     },
     "output_type": "display_data"
    }
   ],
   "source": [
    "df_num = df_train.select_dtypes(include=np.number)\n",
    "for col in df_num.columns:\n",
    "    sns.countplot(df_train, x=col).set_title(col)\n",
    "    plt.title(col)\n",
    "    plt.show()"
   ]
  },
  {
   "cell_type": "markdown",
   "id": "d68b2c57",
   "metadata": {},
   "source": [
    "### Visualizing Categorical Features\n",
    "\n",
    "We display the categorical columns other than Name (unique for every passenger) and Ticket (almost unique)."
   ]
  },
  {
   "cell_type": "code",
   "execution_count": 7,
   "id": "2f19b240",
   "metadata": {},
   "outputs": [
    {
     "data": {
      "image/png": "[encoded data removed]",
      "text/plain": [
       "<Figure size 432x288 with 1 Axes>"
      ]
     },
     "metadata": {
      "needs_background": "light"
     },
     "output_type": "display_data"
    },
    {
     "data": {
      "image/png": "[encoded data removed]",
      "text/plain": [
       "<Figure size 432x288 with 1 Axes>"
      ]
     },
     "metadata": {
      "needs_background": "light"
     },
     "output_type": "display_data"
    },
    {
     "data": {
      "image/png": "[encoded data removed]",
      "text/plain": [
       "<Figure size 432x288 with 1 Axes>"
      ]
     },
     "metadata": {
      "needs_background": "light"
     },
     "output_type": "display_data"
    }
   ],
   "source": [
    "df_cat = df_train.describe(include=[object])\n",
    "for col in [col for col in df_cat.columns if col not in ['Name', 'Ticket']]:\n",
    "    # df_num[col].hist()\n",
    "    sns.countplot(df_train, x=col).set_title(col)\n",
    "    plt.show()"
   ]
  },
  {
   "cell_type": "markdown",
   "id": "5771d055",
   "metadata": {},
   "source": [
    "## Statistics"
   ]
  },
  {
   "cell_type": "markdown",
   "id": "8ed36234",
   "metadata": {},
   "source": [
    "### Survival Rate"
   ]
  },
  {
   "cell_type": "code",
   "execution_count": 8,
   "id": "d09d5528",
   "metadata": {},
   "outputs": [
    {
     "name": "stdout",
     "output_type": "stream",
     "text": [
      "Training set is 68.07% of the combined data set.\n",
      "Overall survival rate in training set: 38.38%\n"
     ]
    }
   ],
   "source": [
    "print(\"Training set is {:.2%} of the combined data set.\".format(\n",
    "    len(df_train)/(len(df_train) + len(df_test))))\n",
    "print(\"Overall survival rate in training set: {:.2%}\".format(\n",
    "    df_train['Survived'].sum()/len(df_train)))"
   ]
  },
  {
   "cell_type": "markdown",
   "id": "2341d468",
   "metadata": {},
   "source": [
    "### Univariate Statistics"
   ]
  },
  {
   "cell_type": "code",
   "execution_count": 9,
   "id": "bcb30c5e",
   "metadata": {},
   "outputs": [
    {
     "name": "stdout",
     "output_type": "stream",
     "text": [
      "Statistics for numerical columns\n",
      "\n"
     ]
    },
    {
     "data": {
      "text/html": [
       "<div>\n",
       "<style scoped>\n",
       "    .dataframe tbody tr th:only-of-type {\n",
       "        vertical-align: middle;\n",
       "    }\n",
       "\n",
       "    .dataframe tbody tr th {\n",
       "        vertical-align: top;\n",
       "    }\n",
       "\n",
       "    .dataframe thead th {\n",
       "        text-align: right;\n",
       "    }\n",
       "</style>\n",
       "<table border=\"1\" class=\"dataframe\">\n",
       "  <thead>\n",
       "    <tr style=\"text-align: right;\">\n",
       "      <th></th>\n",
       "      <th>PassengerId</th>\n",
       "      <th>Survived</th>\n",
       "      <th>Pclass</th>\n",
       "      <th>Age</th>\n",
       "      <th>SibSp</th>\n",
       "      <th>Parch</th>\n",
       "      <th>Fare</th>\n",
       "    </tr>\n",
       "  </thead>\n",
       "  <tbody>\n",
       "    <tr>\n",
       "      <th>count</th>\n",
       "      <td>891.000000</td>\n",
       "      <td>891.000000</td>\n",
       "      <td>891.000000</td>\n",
       "      <td>714.000000</td>\n",
       "      <td>891.000000</td>\n",
       "      <td>891.000000</td>\n",
       "      <td>891.000000</td>\n",
       "    </tr>\n",
       "    <tr>\n",
       "      <th>mean</th>\n",
       "      <td>446.000000</td>\n",
       "      <td>0.383838</td>\n",
       "      <td>2.308642</td>\n",
       "      <td>29.699118</td>\n",
       "      <td>0.523008</td>\n",
       "      <td>0.381594</td>\n",
       "      <td>32.204208</td>\n",
       "    </tr>\n",
       "    <tr>\n",
       "      <th>std</th>\n",
       "      <td>257.353842</td>\n",
       "      <td>0.486592</td>\n",
       "      <td>0.836071</td>\n",
       "      <td>14.526497</td>\n",
       "      <td>1.102743</td>\n",
       "      <td>0.806057</td>\n",
       "      <td>49.693429</td>\n",
       "    </tr>\n",
       "    <tr>\n",
       "      <th>min</th>\n",
       "      <td>1.000000</td>\n",
       "      <td>0.000000</td>\n",
       "      <td>1.000000</td>\n",
       "      <td>0.420000</td>\n",
       "      <td>0.000000</td>\n",
       "      <td>0.000000</td>\n",
       "      <td>0.000000</td>\n",
       "    </tr>\n",
       "    <tr>\n",
       "      <th>25%</th>\n",
       "      <td>223.500000</td>\n",
       "      <td>0.000000</td>\n",
       "      <td>2.000000</td>\n",
       "      <td>20.125000</td>\n",
       "      <td>0.000000</td>\n",
       "      <td>0.000000</td>\n",
       "      <td>7.910400</td>\n",
       "    </tr>\n",
       "    <tr>\n",
       "      <th>50%</th>\n",
       "      <td>446.000000</td>\n",
       "      <td>0.000000</td>\n",
       "      <td>3.000000</td>\n",
       "      <td>28.000000</td>\n",
       "      <td>0.000000</td>\n",
       "      <td>0.000000</td>\n",
       "      <td>14.454200</td>\n",
       "    </tr>\n",
       "    <tr>\n",
       "      <th>75%</th>\n",
       "      <td>668.500000</td>\n",
       "      <td>1.000000</td>\n",
       "      <td>3.000000</td>\n",
       "      <td>38.000000</td>\n",
       "      <td>1.000000</td>\n",
       "      <td>0.000000</td>\n",
       "      <td>31.000000</td>\n",
       "    </tr>\n",
       "    <tr>\n",
       "      <th>max</th>\n",
       "      <td>891.000000</td>\n",
       "      <td>1.000000</td>\n",
       "      <td>3.000000</td>\n",
       "      <td>80.000000</td>\n",
       "      <td>8.000000</td>\n",
       "      <td>6.000000</td>\n",
       "      <td>512.329200</td>\n",
       "    </tr>\n",
       "  </tbody>\n",
       "</table>\n",
       "</div>"
      ],
      "text/plain": [
       "       PassengerId    Survived      Pclass         Age       SibSp  \\\n",
       "count   891.000000  891.000000  891.000000  714.000000  891.000000   \n",
       "mean    446.000000    0.383838    2.308642   29.699118    0.523008   \n",
       "std     257.353842    0.486592    0.836071   14.526497    1.102743   \n",
       "min       1.000000    0.000000    1.000000    0.420000    0.000000   \n",
       "25%     223.500000    0.000000    2.000000   20.125000    0.000000   \n",
       "50%     446.000000    0.000000    3.000000   28.000000    0.000000   \n",
       "75%     668.500000    1.000000    3.000000   38.000000    1.000000   \n",
       "max     891.000000    1.000000    3.000000   80.000000    8.000000   \n",
       "\n",
       "            Parch        Fare  \n",
       "count  891.000000  891.000000  \n",
       "mean     0.381594   32.204208  \n",
       "std      0.806057   49.693429  \n",
       "min      0.000000    0.000000  \n",
       "25%      0.000000    7.910400  \n",
       "50%      0.000000   14.454200  \n",
       "75%      0.000000   31.000000  \n",
       "max      6.000000  512.329200  "
      ]
     },
     "execution_count": 9,
     "metadata": {},
     "output_type": "execute_result"
    }
   ],
   "source": [
    "print(\"Statistics for numerical columns\\n\")\n",
    "df_train.describe()"
   ]
  },
  {
   "cell_type": "code",
   "execution_count": 10,
   "id": "6aaa6726",
   "metadata": {},
   "outputs": [
    {
     "name": "stdout",
     "output_type": "stream",
     "text": [
      "Statistics for string columns\n",
      "\n"
     ]
    },
    {
     "data": {
      "text/html": [
       "<div>\n",
       "<style scoped>\n",
       "    .dataframe tbody tr th:only-of-type {\n",
       "        vertical-align: middle;\n",
       "    }\n",
       "\n",
       "    .dataframe tbody tr th {\n",
       "        vertical-align: top;\n",
       "    }\n",
       "\n",
       "    .dataframe thead th {\n",
       "        text-align: right;\n",
       "    }\n",
       "</style>\n",
       "<table border=\"1\" class=\"dataframe\">\n",
       "  <thead>\n",
       "    <tr style=\"text-align: right;\">\n",
       "      <th></th>\n",
       "      <th>Name</th>\n",
       "      <th>Sex</th>\n",
       "      <th>Ticket</th>\n",
       "      <th>Cabin</th>\n",
       "      <th>Embarked</th>\n",
       "    </tr>\n",
       "  </thead>\n",
       "  <tbody>\n",
       "    <tr>\n",
       "      <th>count</th>\n",
       "      <td>891</td>\n",
       "      <td>891</td>\n",
       "      <td>891</td>\n",
       "      <td>204</td>\n",
       "      <td>889</td>\n",
       "    </tr>\n",
       "    <tr>\n",
       "      <th>unique</th>\n",
       "      <td>891</td>\n",
       "      <td>2</td>\n",
       "      <td>681</td>\n",
       "      <td>147</td>\n",
       "      <td>3</td>\n",
       "    </tr>\n",
       "    <tr>\n",
       "      <th>top</th>\n",
       "      <td>Braund, Mr. Owen Harris</td>\n",
       "      <td>male</td>\n",
       "      <td>347082</td>\n",
       "      <td>B96 B98</td>\n",
       "      <td>S</td>\n",
       "    </tr>\n",
       "    <tr>\n",
       "      <th>freq</th>\n",
       "      <td>1</td>\n",
       "      <td>577</td>\n",
       "      <td>7</td>\n",
       "      <td>4</td>\n",
       "      <td>644</td>\n",
       "    </tr>\n",
       "  </tbody>\n",
       "</table>\n",
       "</div>"
      ],
      "text/plain": [
       "                           Name   Sex  Ticket    Cabin Embarked\n",
       "count                       891   891     891      204      889\n",
       "unique                      891     2     681      147        3\n",
       "top     Braund, Mr. Owen Harris  male  347082  B96 B98        S\n",
       "freq                          1   577       7        4      644"
      ]
     },
     "execution_count": 10,
     "metadata": {},
     "output_type": "execute_result"
    }
   ],
   "source": [
    "print(\"Statistics for string columns\\n\")\n",
    "df_train.describe(include=[object])"
   ]
  },
  {
   "cell_type": "markdown",
   "id": "b750b38c",
   "metadata": {},
   "source": [
    "### Correlation Between Numeric Features"
   ]
  },
  {
   "cell_type": "code",
   "execution_count": 11,
   "id": "b797c385",
   "metadata": {},
   "outputs": [
    {
     "name": "stdout",
     "output_type": "stream",
     "text": [
      "Absolute correlation between numeric features.\n"
     ]
    },
    {
     "data": {
      "text/plain": [
       "<AxesSubplot:>"
      ]
     },
     "execution_count": 11,
     "metadata": {},
     "output_type": "execute_result"
    },
    {
     "data": {
      "image/png": "[encoded data removed]",
      "text/plain": [
       "<Figure size 432x288 with 2 Axes>"
      ]
     },
     "metadata": {
      "needs_background": "light"
     },
     "output_type": "display_data"
    }
   ],
   "source": [
    "print(\"Absolute correlation between numeric features.\")\n",
    "sns.heatmap(df_num.corr().abs())"
   ]
  },
  {
   "cell_type": "code",
   "execution_count": 12,
   "id": "5fe3a1bc",
   "metadata": {},
   "outputs": [
    {
     "name": "stdout",
     "output_type": "stream",
     "text": [
      "Top 10 pairwise correlations: \n",
      "Age       SibSp       0.308247\n",
      "SibSp     Age         0.308247\n",
      "Survived  Pclass      0.338481\n",
      "Pclass    Survived    0.338481\n",
      "Age       Pclass      0.369226\n",
      "Pclass    Age         0.369226\n",
      "SibSp     Parch       0.414838\n",
      "Parch     SibSp       0.414838\n",
      "Fare      Pclass      0.549500\n",
      "Pclass    Fare        0.549500\n",
      "dtype: float64\n"
     ]
    }
   ],
   "source": [
    "print(\"Top 10 pairwise correlations: \")\n",
    "correlation_list = df_num.corr().abs().unstack().sort_values()\n",
    "num_cols = len(df_num.columns)\n",
    "print(correlation_list[-10 - num_cols:-num_cols])"
   ]
  },
  {
   "cell_type": "markdown",
   "id": "162b0b11",
   "metadata": {},
   "source": [
    "Features Fare and Pclass have the highest absolute correlation (approximately 0.55).  The next highest absolute correlation is for features Parch and SibSp (approximately 0.41)."
   ]
  },
  {
   "cell_type": "markdown",
   "id": "80cba0a4",
   "metadata": {},
   "source": [
    "### Correlation of Features with Survived Feature"
   ]
  },
  {
   "cell_type": "code",
   "execution_count": 13,
   "id": "77a4ceed",
   "metadata": {},
   "outputs": [
    {
     "name": "stdout",
     "output_type": "stream",
     "text": [
      "Correlation between numeric features and Survived feature,\n"
     ]
    },
    {
     "data": {
      "text/html": [
       "<div>\n",
       "<style scoped>\n",
       "    .dataframe tbody tr th:only-of-type {\n",
       "        vertical-align: middle;\n",
       "    }\n",
       "\n",
       "    .dataframe tbody tr th {\n",
       "        vertical-align: top;\n",
       "    }\n",
       "\n",
       "    .dataframe thead th {\n",
       "        text-align: right;\n",
       "    }\n",
       "</style>\n",
       "<table border=\"1\" class=\"dataframe\">\n",
       "  <thead>\n",
       "    <tr style=\"text-align: right;\">\n",
       "      <th></th>\n",
       "      <th>Age</th>\n",
       "      <th>Fare</th>\n",
       "      <th>Parch</th>\n",
       "      <th>PassengerId</th>\n",
       "      <th>Pclass</th>\n",
       "      <th>SibSp</th>\n",
       "    </tr>\n",
       "    <tr>\n",
       "      <th>Survived</th>\n",
       "      <th></th>\n",
       "      <th></th>\n",
       "      <th></th>\n",
       "      <th></th>\n",
       "      <th></th>\n",
       "      <th></th>\n",
       "    </tr>\n",
       "  </thead>\n",
       "  <tbody>\n",
       "    <tr>\n",
       "      <th>0</th>\n",
       "      <td>30.626179</td>\n",
       "      <td>22.117887</td>\n",
       "      <td>0.329690</td>\n",
       "      <td>447.016393</td>\n",
       "      <td>2.531876</td>\n",
       "      <td>0.553734</td>\n",
       "    </tr>\n",
       "    <tr>\n",
       "      <th>1</th>\n",
       "      <td>28.343690</td>\n",
       "      <td>48.395408</td>\n",
       "      <td>0.464912</td>\n",
       "      <td>444.368421</td>\n",
       "      <td>1.950292</td>\n",
       "      <td>0.473684</td>\n",
       "    </tr>\n",
       "  </tbody>\n",
       "</table>\n",
       "</div>"
      ],
      "text/plain": [
       "                Age       Fare     Parch  PassengerId    Pclass     SibSp\n",
       "Survived                                                                 \n",
       "0         30.626179  22.117887  0.329690   447.016393  2.531876  0.553734\n",
       "1         28.343690  48.395408  0.464912   444.368421  1.950292  0.473684"
      ]
     },
     "execution_count": 13,
     "metadata": {},
     "output_type": "execute_result"
    }
   ],
   "source": [
    "print(\"Correlation between numeric features and Survived feature,\")\n",
    "pd.pivot_table(df_train, index=['Survived'], \n",
    "               values=[col for col in df_num.columns \n",
    "                       if col not in ['Survived']])"
   ]
  },
  {
   "cell_type": "markdown",
   "id": "e1e7d44e",
   "metadata": {},
   "source": [
    "All of the numeric features show some difference in the average for survived and perished passengers.  In particular, the average Fare for survived passengers (48) is more than twice the average for perished passengers (22)."
   ]
  },
  {
   "cell_type": "code",
   "execution_count": 14,
   "id": "4eefa335",
   "metadata": {
    "scrolled": true
   },
   "outputs": [
    {
     "name": "stdout",
     "output_type": "stream",
     "text": [
      "Survival Rate for different values of Pclass and Sex\n"
     ]
    },
    {
     "data": {
      "text/html": [
       "<div>\n",
       "<style scoped>\n",
       "    .dataframe tbody tr th:only-of-type {\n",
       "        vertical-align: middle;\n",
       "    }\n",
       "\n",
       "    .dataframe tbody tr th {\n",
       "        vertical-align: top;\n",
       "    }\n",
       "\n",
       "    .dataframe thead tr th {\n",
       "        text-align: left;\n",
       "    }\n",
       "\n",
       "    .dataframe thead tr:last-of-type th {\n",
       "        text-align: right;\n",
       "    }\n",
       "</style>\n",
       "<table border=\"1\" class=\"dataframe\">\n",
       "  <thead>\n",
       "    <tr>\n",
       "      <th>Sex</th>\n",
       "      <th colspan=\"3\" halign=\"left\">female</th>\n",
       "      <th colspan=\"3\" halign=\"left\">male</th>\n",
       "    </tr>\n",
       "    <tr>\n",
       "      <th>Pclass</th>\n",
       "      <th>1</th>\n",
       "      <th>2</th>\n",
       "      <th>3</th>\n",
       "      <th>1</th>\n",
       "      <th>2</th>\n",
       "      <th>3</th>\n",
       "    </tr>\n",
       "    <tr>\n",
       "      <th>Survived</th>\n",
       "      <th></th>\n",
       "      <th></th>\n",
       "      <th></th>\n",
       "      <th></th>\n",
       "      <th></th>\n",
       "      <th></th>\n",
       "    </tr>\n",
       "  </thead>\n",
       "  <tbody>\n",
       "    <tr>\n",
       "      <th>0</th>\n",
       "      <td>3.000000</td>\n",
       "      <td>6.000000</td>\n",
       "      <td>72.0</td>\n",
       "      <td>77.000000</td>\n",
       "      <td>91.000000</td>\n",
       "      <td>300.000000</td>\n",
       "    </tr>\n",
       "    <tr>\n",
       "      <th>1</th>\n",
       "      <td>91.000000</td>\n",
       "      <td>70.000000</td>\n",
       "      <td>72.0</td>\n",
       "      <td>45.000000</td>\n",
       "      <td>17.000000</td>\n",
       "      <td>47.000000</td>\n",
       "    </tr>\n",
       "    <tr>\n",
       "      <th>Count</th>\n",
       "      <td>94.000000</td>\n",
       "      <td>76.000000</td>\n",
       "      <td>144.0</td>\n",
       "      <td>122.000000</td>\n",
       "      <td>108.000000</td>\n",
       "      <td>347.000000</td>\n",
       "    </tr>\n",
       "    <tr>\n",
       "      <th>Survival Rate</th>\n",
       "      <td>0.968085</td>\n",
       "      <td>0.921053</td>\n",
       "      <td>0.5</td>\n",
       "      <td>0.368852</td>\n",
       "      <td>0.157407</td>\n",
       "      <td>0.135447</td>\n",
       "    </tr>\n",
       "  </tbody>\n",
       "</table>\n",
       "</div>"
      ],
      "text/plain": [
       "Sex               female                          male                        \n",
       "Pclass                 1          2      3           1           2           3\n",
       "Survived                                                                      \n",
       "0               3.000000   6.000000   72.0   77.000000   91.000000  300.000000\n",
       "1              91.000000  70.000000   72.0   45.000000   17.000000   47.000000\n",
       "Count          94.000000  76.000000  144.0  122.000000  108.000000  347.000000\n",
       "Survival Rate   0.968085   0.921053    0.5    0.368852    0.157407    0.135447"
      ]
     },
     "execution_count": 14,
     "metadata": {},
     "output_type": "execute_result"
    }
   ],
   "source": [
    "print(\"Survival Rate for different values of Pclass and Sex\")\n",
    "tmp_df = pd.pivot_table(df_train, index='Survived', \n",
    "                        columns=['Sex', 'Pclass'], \n",
    "                        values='PassengerId',aggfunc='count')\n",
    "tmp_df.loc['Count'] = tmp_df.loc[0] + tmp_df.loc[1]\n",
    "tmp_df.loc['Survival Rate'] = tmp_df.loc[1]/tmp_df.loc['Count']\n",
    "tmp_df"
   ]
  },
  {
   "cell_type": "markdown",
   "id": "fc73d1ce",
   "metadata": {},
   "source": [
    "Notice that females in the 1st and 2nd classes had a high survival rate."
   ]
  },
  {
   "cell_type": "code",
   "execution_count": 15,
   "id": "2f5bedeb",
   "metadata": {},
   "outputs": [
    {
     "name": "stdout",
     "output_type": "stream",
     "text": [
      "Survival Rate for different values of Parch and SibSp\n"
     ]
    },
    {
     "data": {
      "text/html": [
       "<div>\n",
       "<style scoped>\n",
       "    .dataframe tbody tr th:only-of-type {\n",
       "        vertical-align: middle;\n",
       "    }\n",
       "\n",
       "    .dataframe tbody tr th {\n",
       "        vertical-align: top;\n",
       "    }\n",
       "\n",
       "    .dataframe thead tr th {\n",
       "        text-align: left;\n",
       "    }\n",
       "\n",
       "    .dataframe thead tr:last-of-type th {\n",
       "        text-align: right;\n",
       "    }\n",
       "</style>\n",
       "<table border=\"1\" class=\"dataframe\">\n",
       "  <thead>\n",
       "    <tr>\n",
       "      <th>Parch</th>\n",
       "      <th colspan=\"4\" halign=\"left\">0</th>\n",
       "      <th colspan=\"5\" halign=\"left\">1</th>\n",
       "      <th colspan=\"4\" halign=\"left\">2</th>\n",
       "      <th colspan=\"3\" halign=\"left\">3</th>\n",
       "      <th colspan=\"2\" halign=\"left\">4</th>\n",
       "      <th colspan=\"2\" halign=\"left\">5</th>\n",
       "      <th>6</th>\n",
       "    </tr>\n",
       "    <tr>\n",
       "      <th>SibSp</th>\n",
       "      <th>0</th>\n",
       "      <th>1</th>\n",
       "      <th>2</th>\n",
       "      <th>3</th>\n",
       "      <th>0</th>\n",
       "      <th>1</th>\n",
       "      <th>2</th>\n",
       "      <th>3</th>\n",
       "      <th>4</th>\n",
       "      <th>0</th>\n",
       "      <th>...</th>\n",
       "      <th>5</th>\n",
       "      <th>8</th>\n",
       "      <th>0</th>\n",
       "      <th>1</th>\n",
       "      <th>2</th>\n",
       "      <th>0</th>\n",
       "      <th>1</th>\n",
       "      <th>0</th>\n",
       "      <th>1</th>\n",
       "      <th>1</th>\n",
       "    </tr>\n",
       "    <tr>\n",
       "      <th>Survived</th>\n",
       "      <th></th>\n",
       "      <th></th>\n",
       "      <th></th>\n",
       "      <th></th>\n",
       "      <th></th>\n",
       "      <th></th>\n",
       "      <th></th>\n",
       "      <th></th>\n",
       "      <th></th>\n",
       "      <th></th>\n",
       "      <th></th>\n",
       "      <th></th>\n",
       "      <th></th>\n",
       "      <th></th>\n",
       "      <th></th>\n",
       "      <th></th>\n",
       "      <th></th>\n",
       "      <th></th>\n",
       "      <th></th>\n",
       "      <th></th>\n",
       "      <th></th>\n",
       "    </tr>\n",
       "  </thead>\n",
       "  <tbody>\n",
       "    <tr>\n",
       "      <th>0</th>\n",
       "      <td>374.000000</td>\n",
       "      <td>59.000000</td>\n",
       "      <td>12.00</td>\n",
       "      <td>NaN</td>\n",
       "      <td>13.000000</td>\n",
       "      <td>23.000000</td>\n",
       "      <td>1.000000</td>\n",
       "      <td>7.0</td>\n",
       "      <td>9.0</td>\n",
       "      <td>8.000000</td>\n",
       "      <td>...</td>\n",
       "      <td>5.0</td>\n",
       "      <td>7.0</td>\n",
       "      <td>NaN</td>\n",
       "      <td>2.000000</td>\n",
       "      <td>NaN</td>\n",
       "      <td>1.0</td>\n",
       "      <td>3.0</td>\n",
       "      <td>2.0</td>\n",
       "      <td>2.000000</td>\n",
       "      <td>1.0</td>\n",
       "    </tr>\n",
       "    <tr>\n",
       "      <th>1</th>\n",
       "      <td>163.000000</td>\n",
       "      <td>64.000000</td>\n",
       "      <td>4.00</td>\n",
       "      <td>2.0</td>\n",
       "      <td>25.000000</td>\n",
       "      <td>34.000000</td>\n",
       "      <td>6.000000</td>\n",
       "      <td>NaN</td>\n",
       "      <td>NaN</td>\n",
       "      <td>21.000000</td>\n",
       "      <td>...</td>\n",
       "      <td>NaN</td>\n",
       "      <td>NaN</td>\n",
       "      <td>1.0</td>\n",
       "      <td>1.000000</td>\n",
       "      <td>1.0</td>\n",
       "      <td>NaN</td>\n",
       "      <td>NaN</td>\n",
       "      <td>NaN</td>\n",
       "      <td>1.000000</td>\n",
       "      <td>NaN</td>\n",
       "    </tr>\n",
       "    <tr>\n",
       "      <th>Count</th>\n",
       "      <td>537.000000</td>\n",
       "      <td>123.000000</td>\n",
       "      <td>16.00</td>\n",
       "      <td>NaN</td>\n",
       "      <td>38.000000</td>\n",
       "      <td>57.000000</td>\n",
       "      <td>7.000000</td>\n",
       "      <td>NaN</td>\n",
       "      <td>NaN</td>\n",
       "      <td>29.000000</td>\n",
       "      <td>...</td>\n",
       "      <td>NaN</td>\n",
       "      <td>NaN</td>\n",
       "      <td>NaN</td>\n",
       "      <td>3.000000</td>\n",
       "      <td>NaN</td>\n",
       "      <td>NaN</td>\n",
       "      <td>NaN</td>\n",
       "      <td>NaN</td>\n",
       "      <td>3.000000</td>\n",
       "      <td>NaN</td>\n",
       "    </tr>\n",
       "    <tr>\n",
       "      <th>Survival Rate</th>\n",
       "      <td>0.303538</td>\n",
       "      <td>0.520325</td>\n",
       "      <td>0.25</td>\n",
       "      <td>NaN</td>\n",
       "      <td>0.657895</td>\n",
       "      <td>0.596491</td>\n",
       "      <td>0.857143</td>\n",
       "      <td>NaN</td>\n",
       "      <td>NaN</td>\n",
       "      <td>0.724138</td>\n",
       "      <td>...</td>\n",
       "      <td>NaN</td>\n",
       "      <td>NaN</td>\n",
       "      <td>NaN</td>\n",
       "      <td>0.333333</td>\n",
       "      <td>NaN</td>\n",
       "      <td>NaN</td>\n",
       "      <td>NaN</td>\n",
       "      <td>NaN</td>\n",
       "      <td>0.333333</td>\n",
       "      <td>NaN</td>\n",
       "    </tr>\n",
       "  </tbody>\n",
       "</table>\n",
       "<p>4 rows × 24 columns</p>\n",
       "</div>"
      ],
      "text/plain": [
       "Parch                   0                                  1             \\\n",
       "SibSp                   0           1      2    3          0          1   \n",
       "Survived                                                                  \n",
       "0              374.000000   59.000000  12.00  NaN  13.000000  23.000000   \n",
       "1              163.000000   64.000000   4.00  2.0  25.000000  34.000000   \n",
       "Count          537.000000  123.000000  16.00  NaN  38.000000  57.000000   \n",
       "Survival Rate    0.303538    0.520325   0.25  NaN   0.657895   0.596491   \n",
       "\n",
       "Parch                                      2  ...              3            \\\n",
       "SibSp                 2    3    4          0  ...    5    8    0         1   \n",
       "Survived                                      ...                            \n",
       "0              1.000000  7.0  9.0   8.000000  ...  5.0  7.0  NaN  2.000000   \n",
       "1              6.000000  NaN  NaN  21.000000  ...  NaN  NaN  1.0  1.000000   \n",
       "Count          7.000000  NaN  NaN  29.000000  ...  NaN  NaN  NaN  3.000000   \n",
       "Survival Rate  0.857143  NaN  NaN   0.724138  ...  NaN  NaN  NaN  0.333333   \n",
       "\n",
       "Parch                 4         5              6  \n",
       "SibSp            2    0    1    0         1    1  \n",
       "Survived                                          \n",
       "0              NaN  1.0  3.0  2.0  2.000000  1.0  \n",
       "1              1.0  NaN  NaN  NaN  1.000000  NaN  \n",
       "Count          NaN  NaN  NaN  NaN  3.000000  NaN  \n",
       "Survival Rate  NaN  NaN  NaN  NaN  0.333333  NaN  \n",
       "\n",
       "[4 rows x 24 columns]"
      ]
     },
     "execution_count": 15,
     "metadata": {},
     "output_type": "execute_result"
    }
   ],
   "source": [
    "print(\"Survival Rate for different values of Parch and SibSp\")\n",
    "tmp_df = pd.pivot_table(df_train, index='Survived', \n",
    "                        columns=['Parch', 'SibSp'], \n",
    "                        values='PassengerId',aggfunc='count')\n",
    "tmp_df.loc['Count'] = tmp_df.loc[0] + tmp_df.loc[1]\n",
    "tmp_df.loc['Survival Rate'] = tmp_df.loc[1]/tmp_df.loc['Count']\n",
    "tmp_df"
   ]
  },
  {
   "cell_type": "markdown",
   "id": "69d58f10",
   "metadata": {},
   "source": [
    "<a id=\"cleaning\"></a>\n",
    "# Cleaning Data"
   ]
  },
  {
   "cell_type": "markdown",
   "id": "e2433a7d",
   "metadata": {},
   "source": [
    "<a id=\"combinedata\"></a>\n",
    "## Combining Data\n",
    "\n",
    "First, combine the training and test sets into one dataset with a 'Set' column to differentiate between the two.  This allows us to update both datasets at once."
   ]
  },
  {
   "cell_type": "code",
   "execution_count": 16,
   "id": "21fc4171",
   "metadata": {},
   "outputs": [
    {
     "name": "stdout",
     "output_type": "stream",
     "text": [
      "Combining Train and Test Data into one dataset.\n"
     ]
    }
   ],
   "source": [
    "print(\"Combining Train and Test Data into one dataset.\")\n",
    "df_train['Set'] = 'train'\n",
    "df_test['Set'] = 'test'\n",
    "df_test['Survived'] = -1\n",
    "df_all = pd.concat([df_train, df_test], ignore_index=True)"
   ]
  },
  {
   "cell_type": "markdown",
   "id": "d66cb361",
   "metadata": {},
   "source": [
    "<a id=\"handlemissing\"></a>\n",
    "## Handling Missing Data"
   ]
  },
  {
   "cell_type": "code",
   "execution_count": 17,
   "id": "7a6feaef",
   "metadata": {},
   "outputs": [
    {
     "name": "stdout",
     "output_type": "stream",
     "text": [
      "Column has missing data?\n"
     ]
    },
    {
     "data": {
      "text/plain": [
       "PassengerId    False\n",
       "Survived       False\n",
       "Pclass         False\n",
       "Name           False\n",
       "Sex            False\n",
       "Age             True\n",
       "SibSp          False\n",
       "Parch          False\n",
       "Ticket         False\n",
       "Fare            True\n",
       "Cabin           True\n",
       "Embarked        True\n",
       "Set            False\n",
       "dtype: bool"
      ]
     },
     "execution_count": 17,
     "metadata": {},
     "output_type": "execute_result"
    }
   ],
   "source": [
    "print(\"Column has missing data?\")\n",
    "df_all.isna().any()"
   ]
  },
  {
   "cell_type": "markdown",
   "id": "b83e2c2d",
   "metadata": {},
   "source": [
    "The combined dataset (including both training and test data sets) has missing information in the following features: Age, Fare, Cabin, and Embarked."
   ]
  },
  {
   "cell_type": "markdown",
   "id": "6d987d9c",
   "metadata": {},
   "source": [
    "### Helper Function: Print_missing"
   ]
  },
  {
   "cell_type": "code",
   "execution_count": 18,
   "id": "fc6578ae",
   "metadata": {},
   "outputs": [],
   "source": [
    "# Prints number missing values and number of unique values\n",
    "def print_missing(col):\n",
    "    print(col, \"Feature is missing\",\n",
    "          len(df_all[df_all[col].isnull()]), 'values', end=\"\")\n",
    "    print(\" (out of\", len(df_all), \"passengers)\")\n",
    "    print(\"    and has\", len(df_all[col].unique()), \n",
    "          \"unique values.\") "
   ]
  },
  {
   "cell_type": "markdown",
   "id": "29d8873d",
   "metadata": {},
   "source": [
    "### Missing Cabin Values"
   ]
  },
  {
   "cell_type": "code",
   "execution_count": 19,
   "id": "54dc312f",
   "metadata": {},
   "outputs": [
    {
     "name": "stdout",
     "output_type": "stream",
     "text": [
      "Cabin Feature is missing 1014 values (out of 1309 passengers)\n",
      "    and has 187 unique values.\n"
     ]
    }
   ],
   "source": [
    "print_missing('Cabin')"
   ]
  },
  {
   "cell_type": "markdown",
   "id": "bc077729",
   "metadata": {},
   "source": [
    "Cabin is missing about 77% of its values.  However, knowing which values are missing might be useful.  We replace the missing values with the character 'Z'."
   ]
  },
  {
   "cell_type": "code",
   "execution_count": 20,
   "id": "d9d3f7e5",
   "metadata": {},
   "outputs": [],
   "source": [
    "# Replace Missing Values with Z\n",
    "df_all['Cabin'].fillna('Z', inplace=True)"
   ]
  },
  {
   "cell_type": "markdown",
   "id": "9c474dfa",
   "metadata": {},
   "source": [
    "### Missing Age Values"
   ]
  },
  {
   "cell_type": "code",
   "execution_count": 21,
   "id": "3609849f",
   "metadata": {},
   "outputs": [
    {
     "name": "stdout",
     "output_type": "stream",
     "text": [
      "Age Feature is missing 263 values (out of 1309 passengers)\n",
      "    and has 99 unique values.\n"
     ]
    }
   ],
   "source": [
    "print_missing('Age')"
   ]
  },
  {
   "cell_type": "markdown",
   "id": "f4e2c51c",
   "metadata": {},
   "source": [
    "Age is missing about 20% of its values.  We plan to impute the missing values by using other features.  Below, we compare Age to Sex and Class."
   ]
  },
  {
   "cell_type": "code",
   "execution_count": 22,
   "id": "a065c444",
   "metadata": {},
   "outputs": [
    {
     "data": {
      "text/plain": [
       "<AxesSubplot:xlabel='Pclass', ylabel='Age'>"
      ]
     },
     "execution_count": 22,
     "metadata": {},
     "output_type": "execute_result"
    },
    {
     "data": {
      "image/png": "[encoded data removed]",
      "text/plain": [
       "<Figure size 432x288 with 1 Axes>"
      ]
     },
     "metadata": {
      "needs_background": "light"
     },
     "output_type": "display_data"
    }
   ],
   "source": [
    "sns.boxplot(x = 'Pclass', y = 'Age', data = df_all[df_all['Set'] == 'train'], hue='Sex')"
   ]
  },
  {
   "cell_type": "markdown",
   "id": "8fcdca2d",
   "metadata": {},
   "source": [
    "We estimate each missing Age value by the median Age for passengers with the same Sex and Pclass values."
   ]
  },
  {
   "cell_type": "code",
   "execution_count": 23,
   "id": "2c688344",
   "metadata": {
    "scrolled": true
   },
   "outputs": [
    {
     "name": "stdout",
     "output_type": "stream",
     "text": [
      "{('female', 1): 36, ('female', 2): 28, ('female', 3): 22, ('male', 1): 42, ('male', 2): 29, ('male', 3): 25}\n"
     ]
    }
   ],
   "source": [
    "# We create a dictionary of medians indexed by (Sex, Pclass)\n",
    "group_cols = ['Sex', 'Pclass']\n",
    "median_dict = df_all[df_all['Age'].notnull()].groupby(group_cols)['Age'].median().astype(int).to_dict()\n",
    "print(median_dict)"
   ]
  },
  {
   "cell_type": "markdown",
   "id": "abe7922e",
   "metadata": {},
   "source": [
    "We use the median dictionary to replace missing Age values."
   ]
  },
  {
   "cell_type": "code",
   "execution_count": 24,
   "id": "006cdbe2",
   "metadata": {},
   "outputs": [],
   "source": [
    "# Function for transforming the Age feature into one with no missing values\n",
    "def age_transform(row):\n",
    "    if pd.isnull(row['Age']):\n",
    "        return(median_dict[tuple(row[group_cols].tolist())])\n",
    "    else:\n",
    "        return row['Age']"
   ]
  },
  {
   "cell_type": "code",
   "execution_count": 25,
   "id": "33392a8c",
   "metadata": {},
   "outputs": [],
   "source": [
    "# Update Age.\n",
    "df_all['Age'] = df_all.apply(lambda row: age_transform(row), axis=1)"
   ]
  },
  {
   "cell_type": "code",
   "execution_count": 26,
   "id": "12c01d2a",
   "metadata": {},
   "outputs": [
    {
     "data": {
      "text/plain": [
       "<AxesSubplot:xlabel='Age', ylabel='count'>"
      ]
     },
     "execution_count": 26,
     "metadata": {},
     "output_type": "execute_result"
    },
    {
     "data": {
      "image/png": "[encoded data removed]",
      "text/plain": [
       "<Figure size 432x288 with 1 Axes>"
      ]
     },
     "metadata": {
      "needs_background": "light"
     },
     "output_type": "display_data"
    }
   ],
   "source": [
    "sns.countplot(df_all, x='Age')"
   ]
  },
  {
   "cell_type": "markdown",
   "id": "e89397d9",
   "metadata": {},
   "source": [
    "### Missing Embarked "
   ]
  },
  {
   "cell_type": "code",
   "execution_count": 27,
   "id": "114c8949",
   "metadata": {},
   "outputs": [
    {
     "name": "stdout",
     "output_type": "stream",
     "text": [
      "Embarked Feature is missing 2 values (out of 1309 passengers)\n",
      "    and has 4 unique values.\n"
     ]
    }
   ],
   "source": [
    "print_missing('Embarked')"
   ]
  },
  {
   "cell_type": "code",
   "execution_count": 28,
   "id": "a90fe3b9",
   "metadata": {},
   "outputs": [],
   "source": [
    "# Since there are few missing values, it doesn't really matter what we replace them with\n",
    "#   Replace missing Embarked values with most common value\n",
    "df_all.Embarked.fillna('S', inplace=True)"
   ]
  },
  {
   "cell_type": "markdown",
   "id": "321fc37b",
   "metadata": {},
   "source": [
    "### Other Missing Values"
   ]
  },
  {
   "cell_type": "code",
   "execution_count": 29,
   "id": "8ecb2663",
   "metadata": {},
   "outputs": [
    {
     "data": {
      "text/html": [
       "<div>\n",
       "<style scoped>\n",
       "    .dataframe tbody tr th:only-of-type {\n",
       "        vertical-align: middle;\n",
       "    }\n",
       "\n",
       "    .dataframe tbody tr th {\n",
       "        vertical-align: top;\n",
       "    }\n",
       "\n",
       "    .dataframe thead th {\n",
       "        text-align: right;\n",
       "    }\n",
       "</style>\n",
       "<table border=\"1\" class=\"dataframe\">\n",
       "  <thead>\n",
       "    <tr style=\"text-align: right;\">\n",
       "      <th></th>\n",
       "      <th>PassengerId</th>\n",
       "      <th>Survived</th>\n",
       "      <th>Pclass</th>\n",
       "      <th>Name</th>\n",
       "      <th>Sex</th>\n",
       "      <th>Age</th>\n",
       "      <th>SibSp</th>\n",
       "      <th>Parch</th>\n",
       "      <th>Ticket</th>\n",
       "      <th>Fare</th>\n",
       "      <th>Cabin</th>\n",
       "      <th>Embarked</th>\n",
       "      <th>Set</th>\n",
       "    </tr>\n",
       "  </thead>\n",
       "  <tbody>\n",
       "    <tr>\n",
       "      <th>1043</th>\n",
       "      <td>1044</td>\n",
       "      <td>-1</td>\n",
       "      <td>3</td>\n",
       "      <td>Storey, Mr. Thomas</td>\n",
       "      <td>male</td>\n",
       "      <td>60.5</td>\n",
       "      <td>0</td>\n",
       "      <td>0</td>\n",
       "      <td>3701</td>\n",
       "      <td>NaN</td>\n",
       "      <td>Z</td>\n",
       "      <td>S</td>\n",
       "      <td>test</td>\n",
       "    </tr>\n",
       "  </tbody>\n",
       "</table>\n",
       "</div>"
      ],
      "text/plain": [
       "      PassengerId  Survived  Pclass                Name   Sex   Age  SibSp  \\\n",
       "1043         1044        -1       3  Storey, Mr. Thomas  male  60.5      0   \n",
       "\n",
       "      Parch Ticket  Fare Cabin Embarked   Set  \n",
       "1043      0   3701   NaN     Z        S  test  "
      ]
     },
     "execution_count": 29,
     "metadata": {},
     "output_type": "execute_result"
    }
   ],
   "source": [
    "# Print any entries with missing values\n",
    "df_all[df_all.isna().any(axis=1)]"
   ]
  },
  {
   "cell_type": "code",
   "execution_count": 30,
   "id": "1f79cc99",
   "metadata": {},
   "outputs": [],
   "source": [
    "# Replace missing Fare value with a median\n",
    "df_all.Fare.fillna(np.nanmedian(df_all[(df_all['Pclass'] == 3)]['Fare']), inplace=True)"
   ]
  },
  {
   "cell_type": "markdown",
   "id": "433a68db",
   "metadata": {},
   "source": [
    "<a id=\"convertcategories\"></a>\n",
    "## Converting Non-numeric Categories\n",
    "\n",
    "Convert the Sex and Embarked features into numeric columns. "
   ]
  },
  {
   "cell_type": "code",
   "execution_count": 31,
   "id": "18b3e6fb",
   "metadata": {},
   "outputs": [],
   "source": [
    "# Sex feature mapped to 0 and 1\n",
    "df_all['Sex'] = df_all['Sex'].map({'female':0, 'male':1})"
   ]
  },
  {
   "cell_type": "code",
   "execution_count": 32,
   "id": "d8362e30",
   "metadata": {},
   "outputs": [],
   "source": [
    "# Embarked feature mapped to 0, 1, 2\n",
    "df_all['Embarked'] = df_all['Embarked'].map({'S':-1, 'C':0, 'Q':1})"
   ]
  },
  {
   "cell_type": "code",
   "execution_count": 33,
   "id": "34dd5788",
   "metadata": {},
   "outputs": [
    {
     "name": "stdout",
     "output_type": "stream",
     "text": [
      "Current Features:\n",
      "\n",
      "<class 'pandas.core.frame.DataFrame'>\n",
      "RangeIndex: 1309 entries, 0 to 1308\n",
      "Data columns (total 13 columns):\n",
      " #   Column       Non-Null Count  Dtype  \n",
      "---  ------       --------------  -----  \n",
      " 0   PassengerId  1309 non-null   int64  \n",
      " 1   Survived     1309 non-null   int64  \n",
      " 2   Pclass       1309 non-null   int64  \n",
      " 3   Name         1309 non-null   object \n",
      " 4   Sex          1309 non-null   int64  \n",
      " 5   Age          1309 non-null   float64\n",
      " 6   SibSp        1309 non-null   int64  \n",
      " 7   Parch        1309 non-null   int64  \n",
      " 8   Ticket       1309 non-null   object \n",
      " 9   Fare         1309 non-null   float64\n",
      " 10  Cabin        1309 non-null   object \n",
      " 11  Embarked     1309 non-null   int64  \n",
      " 12  Set          1309 non-null   object \n",
      "dtypes: float64(2), int64(7), object(4)\n",
      "memory usage: 133.1+ KB\n"
     ]
    }
   ],
   "source": [
    "print(\"Current Features:\\n\")\n",
    "df_all.info()"
   ]
  },
  {
   "cell_type": "markdown",
   "id": "6b626a38",
   "metadata": {},
   "source": [
    "## Removing Outliers\n",
    "\n",
    "Finding outliers, manually choosing a survival prediction based on the training set, apply strategy to predict survived on the test set, and removing these outliers from the datasets.  The outlier-predict list keeps track of prediction on the test set outliers."
   ]
  },
  {
   "cell_type": "code",
   "execution_count": 34,
   "id": "79999f12",
   "metadata": {},
   "outputs": [],
   "source": [
    "outlier_predict = pd.DataFrame({'PassengerId':[], 'Survived':[]})\n",
    "display_cols = ['PassengerId', 'Survived', 'Sex', 'Pclass','SibSp', 'Parch', 'Age']"
   ]
  },
  {
   "cell_type": "markdown",
   "id": "784da056",
   "metadata": {},
   "source": [
    "### Age Outliers"
   ]
  },
  {
   "cell_type": "code",
   "execution_count": 35,
   "id": "a22fac2c",
   "metadata": {},
   "outputs": [
    {
     "data": {
      "text/plain": [
       "Text(0.5, 1.0, 'Age Feature of the Training Set')"
      ]
     },
     "execution_count": 35,
     "metadata": {},
     "output_type": "execute_result"
    },
    {
     "data": {
      "image/png": "[encoded data removed]",
      "text/plain": [
       "<Figure size 432x288 with 1 Axes>"
      ]
     },
     "metadata": {
      "needs_background": "light"
     },
     "output_type": "display_data"
    }
   ],
   "source": [
    "sns.boxplot(y = 'Age', data = df_all[df_all['Set'] == 'train']).set_title(\"Age Feature of the Training Set\")"
   ]
  },
  {
   "cell_type": "code",
   "execution_count": 36,
   "id": "83b7e29f",
   "metadata": {},
   "outputs": [
    {
     "name": "stdout",
     "output_type": "stream",
     "text": [
      "Age feature has  0 values less than -6.6875\n",
      "    and  13 values greater than 64.8125\n"
     ]
    }
   ],
   "source": [
    "quartiles = df_train['Age'].quantile([0.25, 0.75])\n",
    "q1, q3 = quartiles[0.25], quartiles[0.75]\n",
    "irq = q3 - q1\n",
    "lower_bound = q1 - 1.5 * irq\n",
    "upper_bound = q3 + 1.5 * irq\n",
    "print(\"Age feature has \", len(df_all[df_all['Age']< lower_bound]), \n",
    "      \"values less than\", round(lower_bound, 4))\n",
    "print(\"    and \", len(df_all[df_all['Age']> upper_bound]), \n",
    "      \"values greater than\", round(upper_bound, 4))"
   ]
  },
  {
   "cell_type": "code",
   "execution_count": 37,
   "id": "6f50dc1a",
   "metadata": {},
   "outputs": [
    {
     "data": {
      "text/html": [
       "<div>\n",
       "<style scoped>\n",
       "    .dataframe tbody tr th:only-of-type {\n",
       "        vertical-align: middle;\n",
       "    }\n",
       "\n",
       "    .dataframe tbody tr th {\n",
       "        vertical-align: top;\n",
       "    }\n",
       "\n",
       "    .dataframe thead th {\n",
       "        text-align: right;\n",
       "    }\n",
       "</style>\n",
       "<table border=\"1\" class=\"dataframe\">\n",
       "  <thead>\n",
       "    <tr style=\"text-align: right;\">\n",
       "      <th></th>\n",
       "      <th>PassengerId</th>\n",
       "      <th>Survived</th>\n",
       "      <th>Sex</th>\n",
       "      <th>Pclass</th>\n",
       "      <th>SibSp</th>\n",
       "      <th>Parch</th>\n",
       "      <th>Age</th>\n",
       "    </tr>\n",
       "  </thead>\n",
       "  <tbody>\n",
       "    <tr>\n",
       "      <th>987</th>\n",
       "      <td>988</td>\n",
       "      <td>-1</td>\n",
       "      <td>0</td>\n",
       "      <td>1</td>\n",
       "      <td>1</td>\n",
       "      <td>0</td>\n",
       "      <td>76.0</td>\n",
       "    </tr>\n",
       "    <tr>\n",
       "      <th>972</th>\n",
       "      <td>973</td>\n",
       "      <td>-1</td>\n",
       "      <td>1</td>\n",
       "      <td>1</td>\n",
       "      <td>1</td>\n",
       "      <td>0</td>\n",
       "      <td>67.0</td>\n",
       "    </tr>\n",
       "    <tr>\n",
       "      <th>54</th>\n",
       "      <td>55</td>\n",
       "      <td>0</td>\n",
       "      <td>1</td>\n",
       "      <td>1</td>\n",
       "      <td>0</td>\n",
       "      <td>1</td>\n",
       "      <td>65.0</td>\n",
       "    </tr>\n",
       "    <tr>\n",
       "      <th>96</th>\n",
       "      <td>97</td>\n",
       "      <td>0</td>\n",
       "      <td>1</td>\n",
       "      <td>1</td>\n",
       "      <td>0</td>\n",
       "      <td>0</td>\n",
       "      <td>71.0</td>\n",
       "    </tr>\n",
       "    <tr>\n",
       "      <th>456</th>\n",
       "      <td>457</td>\n",
       "      <td>0</td>\n",
       "      <td>1</td>\n",
       "      <td>1</td>\n",
       "      <td>0</td>\n",
       "      <td>0</td>\n",
       "      <td>65.0</td>\n",
       "    </tr>\n",
       "    <tr>\n",
       "      <th>493</th>\n",
       "      <td>494</td>\n",
       "      <td>0</td>\n",
       "      <td>1</td>\n",
       "      <td>1</td>\n",
       "      <td>0</td>\n",
       "      <td>0</td>\n",
       "      <td>71.0</td>\n",
       "    </tr>\n",
       "    <tr>\n",
       "      <th>745</th>\n",
       "      <td>746</td>\n",
       "      <td>0</td>\n",
       "      <td>1</td>\n",
       "      <td>1</td>\n",
       "      <td>1</td>\n",
       "      <td>1</td>\n",
       "      <td>70.0</td>\n",
       "    </tr>\n",
       "    <tr>\n",
       "      <th>630</th>\n",
       "      <td>631</td>\n",
       "      <td>1</td>\n",
       "      <td>1</td>\n",
       "      <td>1</td>\n",
       "      <td>0</td>\n",
       "      <td>0</td>\n",
       "      <td>80.0</td>\n",
       "    </tr>\n",
       "    <tr>\n",
       "      <th>33</th>\n",
       "      <td>34</td>\n",
       "      <td>0</td>\n",
       "      <td>1</td>\n",
       "      <td>2</td>\n",
       "      <td>0</td>\n",
       "      <td>0</td>\n",
       "      <td>66.0</td>\n",
       "    </tr>\n",
       "    <tr>\n",
       "      <th>672</th>\n",
       "      <td>673</td>\n",
       "      <td>0</td>\n",
       "      <td>1</td>\n",
       "      <td>2</td>\n",
       "      <td>0</td>\n",
       "      <td>0</td>\n",
       "      <td>70.0</td>\n",
       "    </tr>\n",
       "    <tr>\n",
       "      <th>116</th>\n",
       "      <td>117</td>\n",
       "      <td>0</td>\n",
       "      <td>1</td>\n",
       "      <td>3</td>\n",
       "      <td>0</td>\n",
       "      <td>0</td>\n",
       "      <td>70.5</td>\n",
       "    </tr>\n",
       "    <tr>\n",
       "      <th>280</th>\n",
       "      <td>281</td>\n",
       "      <td>0</td>\n",
       "      <td>1</td>\n",
       "      <td>3</td>\n",
       "      <td>0</td>\n",
       "      <td>0</td>\n",
       "      <td>65.0</td>\n",
       "    </tr>\n",
       "    <tr>\n",
       "      <th>851</th>\n",
       "      <td>852</td>\n",
       "      <td>0</td>\n",
       "      <td>1</td>\n",
       "      <td>3</td>\n",
       "      <td>0</td>\n",
       "      <td>0</td>\n",
       "      <td>74.0</td>\n",
       "    </tr>\n",
       "  </tbody>\n",
       "</table>\n",
       "</div>"
      ],
      "text/plain": [
       "     PassengerId  Survived  Sex  Pclass  SibSp  Parch   Age\n",
       "987          988        -1    0       1      1      0  76.0\n",
       "972          973        -1    1       1      1      0  67.0\n",
       "54            55         0    1       1      0      1  65.0\n",
       "96            97         0    1       1      0      0  71.0\n",
       "456          457         0    1       1      0      0  65.0\n",
       "493          494         0    1       1      0      0  71.0\n",
       "745          746         0    1       1      1      1  70.0\n",
       "630          631         1    1       1      0      0  80.0\n",
       "33            34         0    1       2      0      0  66.0\n",
       "672          673         0    1       2      0      0  70.0\n",
       "116          117         0    1       3      0      0  70.5\n",
       "280          281         0    1       3      0      0  65.0\n",
       "851          852         0    1       3      0      0  74.0"
      ]
     },
     "execution_count": 37,
     "metadata": {},
     "output_type": "execute_result"
    }
   ],
   "source": [
    "df_tmp = df_all[df_all['Age'] > upper_bound]\n",
    "df_tmp[display_cols].sort_values(['Sex', 'Pclass', 'Survived'])"
   ]
  },
  {
   "cell_type": "code",
   "execution_count": 38,
   "id": "d6d78452",
   "metadata": {},
   "outputs": [],
   "source": [
    "# Make Predictions on the two outliers in the test set\n",
    "#   We predict that 1st class women are the only survivors on this outlier set\n",
    "outlier_predict = outlier_predict.append(pd.DataFrame({'PassengerId':[988, 973], \n",
    "                                                       'Survived':[1, 0]}), ignore_index=True)\n",
    "\n",
    "# Remove all such outliers\n",
    "df_all.drop(df_all[df_all['Age'] > upper_bound].index, inplace=True)"
   ]
  },
  {
   "cell_type": "markdown",
   "id": "393484ed",
   "metadata": {},
   "source": [
    "<a id=\"featureengineering\"></a>\n",
    "# Feature Engineering"
   ]
  },
  {
   "cell_type": "markdown",
   "id": "3fc7d5b2",
   "metadata": {},
   "source": [
    "### Cabin Feature: Deck\n",
    "Deck is the first letter of the Cabin, with \n",
    "- missing values already replaced by Z\n",
    "- low frequency (<= 20) values replaced by Y\n",
    "- one-hot encoded"
   ]
  },
  {
   "cell_type": "code",
   "execution_count": 39,
   "id": "5b75d575",
   "metadata": {},
   "outputs": [],
   "source": [
    "# Deck is the first character of Cabin\n",
    "df_all['Deck'] = df_all['Cabin'].apply(lambda s: s[0])"
   ]
  },
  {
   "cell_type": "code",
   "execution_count": 40,
   "id": "8a6adb18",
   "metadata": {},
   "outputs": [
    {
     "name": "stdout",
     "output_type": "stream",
     "text": [
      "Deck values and counts\n",
      " {'Z': 1008, 'C': 92, 'B': 63, 'D': 46, 'E': 40, 'F': 21, 'A': 20, 'G': 5, 'T': 1}\n"
     ]
    }
   ],
   "source": [
    "# Find Deck values that have low frequency\n",
    "print(\"Deck values and counts\\n\", df_all['Deck'].value_counts().to_dict())"
   ]
  },
  {
   "cell_type": "code",
   "execution_count": 41,
   "id": "5a9bc1ae",
   "metadata": {},
   "outputs": [
    {
     "name": "stdout",
     "output_type": "stream",
     "text": [
      "New Deck values and counts\n",
      " {'Z': 1008, 'C': 92, 'B': 63, 'D': 46, 'E': 40, 'Y': 26, 'F': 21}\n"
     ]
    }
   ],
   "source": [
    "# Replace low frequency Deck values with Y\n",
    "value_counts = df_all['Deck'].value_counts()\n",
    "to_remove = value_counts[value_counts <= 20].index\n",
    "df_all['Deck'].replace(to_remove, 'Y',inplace=True)\n",
    "print(\"New Deck values and counts\\n\", df_all['Deck'].value_counts().to_dict())"
   ]
  },
  {
   "cell_type": "code",
   "execution_count": 42,
   "id": "e6492f89",
   "metadata": {},
   "outputs": [],
   "source": [
    "# Add one-hot features\n",
    "df_all = pd.get_dummies(data=df_all, columns=['Deck'], dtype=int)"
   ]
  },
  {
   "cell_type": "markdown",
   "id": "55d7db29",
   "metadata": {},
   "source": [
    "### Feature: Title\n",
    "- extract title from Name\n",
    "- convert some rare titles to their most similar common title\n",
    "- group the remaining rare titles into the title 'Other'\n",
    "- convert title to one-hot vectors"
   ]
  },
  {
   "cell_type": "code",
   "execution_count": 43,
   "id": "526b970e",
   "metadata": {},
   "outputs": [
    {
     "name": "stdout",
     "output_type": "stream",
     "text": [
      "Original Salutations: \n",
      " {'Mr': 746, 'Miss': 260, 'Mrs': 196, 'Master': 61, 'Rev': 8, 'Dr': 8, 'Col': 4, 'Major': 2, 'Mlle': 2, 'Ms': 2, 'Lady': 1, 'Sir': 1, 'Mme': 1, 'Don': 1, 'the Countess': 1, 'Jonkheer': 1, 'Dona': 1}\n"
     ]
    },
    {
     "data": {
      "text/plain": [
       "<AxesSubplot:>"
      ]
     },
     "execution_count": 43,
     "metadata": {},
     "output_type": "execute_result"
    },
    {
     "data": {
      "image/png": "[encoded data removed]",
      "text/plain": [
       "<Figure size 432x288 with 1 Axes>"
      ]
     },
     "metadata": {
      "needs_background": "light"
     },
     "output_type": "display_data"
    }
   ],
   "source": [
    "df_all['Title'] = df_all.Name.apply(lambda name: name.split(',')[1].split('.')[0].strip())\n",
    "print(\"Original Salutations: \\n\", df_all['Title'].value_counts().to_dict())\n",
    "\n",
    "sal_to_sal = {'Mr': 'Mr', 'Miss': 'Miss', 'Mrs':'Mrs', 'Master':'Master', \n",
    "              'Mlle':'Miss', 'Mme':'Mrs', 'the Countess':'Mrs', 'Ms':'Mrs', \n",
    "              'Lady':'Mrs', 'the Countess':'Mrs', 'Dona':'Mrs', 'Other':'Other'}\n",
    "df_all['Title'] = df_all['Title'].apply(lambda x: sal_to_sal[x] if (x in sal_to_sal.keys()) else sal_to_sal['Other'])\n",
    "df_all['Title'].hist()\n"
   ]
  },
  {
   "cell_type": "code",
   "execution_count": 44,
   "id": "975ccd30",
   "metadata": {},
   "outputs": [],
   "source": [
    "df_all = pd.get_dummies(data=df_all, columns=['Title'], dtype=int)"
   ]
  },
  {
   "cell_type": "markdown",
   "id": "9d91c2f7",
   "metadata": {},
   "source": [
    "### Feature: Family"
   ]
  },
  {
   "cell_type": "code",
   "execution_count": 45,
   "id": "e80891f5",
   "metadata": {
    "scrolled": true
   },
   "outputs": [],
   "source": [
    "df_all['Family'] = df_all.Parch + df_all.SibSp + 1"
   ]
  },
  {
   "cell_type": "code",
   "execution_count": 46,
   "id": "21953246",
   "metadata": {},
   "outputs": [
    {
     "name": "stdout",
     "output_type": "stream",
     "text": [
      "Survival Rate for different values of Family\n"
     ]
    },
    {
     "data": {
      "text/html": [
       "<div>\n",
       "<style scoped>\n",
       "    .dataframe tbody tr th:only-of-type {\n",
       "        vertical-align: middle;\n",
       "    }\n",
       "\n",
       "    .dataframe tbody tr th {\n",
       "        vertical-align: top;\n",
       "    }\n",
       "\n",
       "    .dataframe thead th {\n",
       "        text-align: right;\n",
       "    }\n",
       "</style>\n",
       "<table border=\"1\" class=\"dataframe\">\n",
       "  <thead>\n",
       "    <tr style=\"text-align: right;\">\n",
       "      <th>Family</th>\n",
       "      <th>1</th>\n",
       "      <th>2</th>\n",
       "      <th>3</th>\n",
       "      <th>4</th>\n",
       "      <th>5</th>\n",
       "      <th>6</th>\n",
       "      <th>7</th>\n",
       "      <th>8</th>\n",
       "      <th>11</th>\n",
       "    </tr>\n",
       "    <tr>\n",
       "      <th>Survived</th>\n",
       "      <th></th>\n",
       "      <th></th>\n",
       "      <th></th>\n",
       "      <th></th>\n",
       "      <th></th>\n",
       "      <th></th>\n",
       "      <th></th>\n",
       "      <th></th>\n",
       "      <th></th>\n",
       "    </tr>\n",
       "  </thead>\n",
       "  <tbody>\n",
       "    <tr>\n",
       "      <th>0</th>\n",
       "      <td>366.000000</td>\n",
       "      <td>71.00000</td>\n",
       "      <td>42.000000</td>\n",
       "      <td>8.000000</td>\n",
       "      <td>12.0</td>\n",
       "      <td>19.000000</td>\n",
       "      <td>8.000000</td>\n",
       "      <td>6.0</td>\n",
       "      <td>7.0</td>\n",
       "    </tr>\n",
       "    <tr>\n",
       "      <th>1</th>\n",
       "      <td>162.000000</td>\n",
       "      <td>89.00000</td>\n",
       "      <td>59.000000</td>\n",
       "      <td>21.000000</td>\n",
       "      <td>3.0</td>\n",
       "      <td>3.000000</td>\n",
       "      <td>4.000000</td>\n",
       "      <td>NaN</td>\n",
       "      <td>NaN</td>\n",
       "    </tr>\n",
       "    <tr>\n",
       "      <th>Count</th>\n",
       "      <td>528.000000</td>\n",
       "      <td>160.00000</td>\n",
       "      <td>101.000000</td>\n",
       "      <td>29.000000</td>\n",
       "      <td>15.0</td>\n",
       "      <td>22.000000</td>\n",
       "      <td>12.000000</td>\n",
       "      <td>NaN</td>\n",
       "      <td>NaN</td>\n",
       "    </tr>\n",
       "    <tr>\n",
       "      <th>Survival Rate</th>\n",
       "      <td>0.306818</td>\n",
       "      <td>0.55625</td>\n",
       "      <td>0.584158</td>\n",
       "      <td>0.724138</td>\n",
       "      <td>0.2</td>\n",
       "      <td>0.136364</td>\n",
       "      <td>0.333333</td>\n",
       "      <td>NaN</td>\n",
       "      <td>NaN</td>\n",
       "    </tr>\n",
       "  </tbody>\n",
       "</table>\n",
       "</div>"
      ],
      "text/plain": [
       "Family                 1          2           3          4     5          6   \\\n",
       "Survived                                                                       \n",
       "0              366.000000   71.00000   42.000000   8.000000  12.0  19.000000   \n",
       "1              162.000000   89.00000   59.000000  21.000000   3.0   3.000000   \n",
       "Count          528.000000  160.00000  101.000000  29.000000  15.0  22.000000   \n",
       "Survival Rate    0.306818    0.55625    0.584158   0.724138   0.2   0.136364   \n",
       "\n",
       "Family                7    8    11  \n",
       "Survived                            \n",
       "0               8.000000  6.0  7.0  \n",
       "1               4.000000  NaN  NaN  \n",
       "Count          12.000000  NaN  NaN  \n",
       "Survival Rate   0.333333  NaN  NaN  "
      ]
     },
     "metadata": {},
     "output_type": "display_data"
    }
   ],
   "source": [
    "print(\"Survival Rate for different values of Family\")\n",
    "tmp_df = pd.pivot_table(df_all[df_all['Set']=='train'], index='Survived', \n",
    "                        columns=['Family'], values='PassengerId',aggfunc='count')\n",
    "tmp_df.loc['Count'] = tmp_df.loc[0] + tmp_df.loc[1]\n",
    "tmp_df.loc['Survival Rate'] = tmp_df.loc[1]/tmp_df.loc['Count']\n",
    "display(tmp_df)"
   ]
  },
  {
   "cell_type": "markdown",
   "id": "8783f507",
   "metadata": {},
   "source": [
    "### Feature: HighClassF"
   ]
  },
  {
   "cell_type": "code",
   "execution_count": 47,
   "id": "b209a06d",
   "metadata": {
    "scrolled": true
   },
   "outputs": [],
   "source": [
    "df_all['HighClassF'] = np.where((df_all['Sex'] == 0) & \n",
    "                                (df_all['Pclass'] == 1), 1, 0)"
   ]
  },
  {
   "cell_type": "code",
   "execution_count": 48,
   "id": "7e57625d",
   "metadata": {},
   "outputs": [
    {
     "name": "stdout",
     "output_type": "stream",
     "text": [
      "Survival Rate for different values of Pclass and Sex\n"
     ]
    },
    {
     "data": {
      "text/html": [
       "<div>\n",
       "<style scoped>\n",
       "    .dataframe tbody tr th:only-of-type {\n",
       "        vertical-align: middle;\n",
       "    }\n",
       "\n",
       "    .dataframe tbody tr th {\n",
       "        vertical-align: top;\n",
       "    }\n",
       "\n",
       "    .dataframe thead tr th {\n",
       "        text-align: left;\n",
       "    }\n",
       "\n",
       "    .dataframe thead tr:last-of-type th {\n",
       "        text-align: right;\n",
       "    }\n",
       "</style>\n",
       "<table border=\"1\" class=\"dataframe\">\n",
       "  <thead>\n",
       "    <tr>\n",
       "      <th>Sex</th>\n",
       "      <th colspan=\"3\" halign=\"left\">0</th>\n",
       "      <th colspan=\"3\" halign=\"left\">1</th>\n",
       "    </tr>\n",
       "    <tr>\n",
       "      <th>Pclass</th>\n",
       "      <th>1</th>\n",
       "      <th>2</th>\n",
       "      <th>3</th>\n",
       "      <th>1</th>\n",
       "      <th>2</th>\n",
       "      <th>3</th>\n",
       "    </tr>\n",
       "    <tr>\n",
       "      <th>Survived</th>\n",
       "      <th></th>\n",
       "      <th></th>\n",
       "      <th></th>\n",
       "      <th></th>\n",
       "      <th></th>\n",
       "      <th></th>\n",
       "    </tr>\n",
       "  </thead>\n",
       "  <tbody>\n",
       "    <tr>\n",
       "      <th>0</th>\n",
       "      <td>3.000000</td>\n",
       "      <td>6.000000</td>\n",
       "      <td>72.0</td>\n",
       "      <td>72.00000</td>\n",
       "      <td>89.000000</td>\n",
       "      <td>297.000000</td>\n",
       "    </tr>\n",
       "    <tr>\n",
       "      <th>1</th>\n",
       "      <td>91.000000</td>\n",
       "      <td>70.000000</td>\n",
       "      <td>72.0</td>\n",
       "      <td>44.00000</td>\n",
       "      <td>17.000000</td>\n",
       "      <td>47.000000</td>\n",
       "    </tr>\n",
       "    <tr>\n",
       "      <th>Count</th>\n",
       "      <td>94.000000</td>\n",
       "      <td>76.000000</td>\n",
       "      <td>144.0</td>\n",
       "      <td>116.00000</td>\n",
       "      <td>106.000000</td>\n",
       "      <td>344.000000</td>\n",
       "    </tr>\n",
       "    <tr>\n",
       "      <th>Survival Rate</th>\n",
       "      <td>0.968085</td>\n",
       "      <td>0.921053</td>\n",
       "      <td>0.5</td>\n",
       "      <td>0.37931</td>\n",
       "      <td>0.160377</td>\n",
       "      <td>0.136628</td>\n",
       "    </tr>\n",
       "  </tbody>\n",
       "</table>\n",
       "</div>"
      ],
      "text/plain": [
       "Sex                    0                            1                        \n",
       "Pclass                 1          2      3          1           2           3\n",
       "Survived                                                                     \n",
       "0               3.000000   6.000000   72.0   72.00000   89.000000  297.000000\n",
       "1              91.000000  70.000000   72.0   44.00000   17.000000   47.000000\n",
       "Count          94.000000  76.000000  144.0  116.00000  106.000000  344.000000\n",
       "Survival Rate   0.968085   0.921053    0.5    0.37931    0.160377    0.136628"
      ]
     },
     "metadata": {},
     "output_type": "display_data"
    }
   ],
   "source": [
    "print(\"Survival Rate for different values of Pclass and Sex\")\n",
    "tmp_df = pd.pivot_table(df_all[df_all['Set']=='train'], index='Survived', \n",
    "                        columns=['Sex', 'Pclass'], \n",
    "                        values='PassengerId',aggfunc='count')\n",
    "tmp_df.loc['Count'] = tmp_df.loc[0] + tmp_df.loc[1]\n",
    "tmp_df.loc['Survival Rate'] = tmp_df.loc[1]/tmp_df.loc['Count']\n",
    "display(tmp_df)"
   ]
  },
  {
   "cell_type": "markdown",
   "id": "d3e3bac3",
   "metadata": {},
   "source": [
    "<a id=\"#datapreprocessing\"></a>\n",
    "# Preprocessing Datasets\n",
    "\n",
    "\n",
    "- Separate Data Sets\n",
    "- Remove non-numeric features\n",
    "- Remove Low-impact features\n",
    "- Weigh training set by test set weights\n",
    "- Scale features"
   ]
  },
  {
   "cell_type": "markdown",
   "id": "8e55baff",
   "metadata": {},
   "source": [
    "## Import Preprocessing Libraries"
   ]
  },
  {
   "cell_type": "code",
   "execution_count": 49,
   "id": "b017ae80",
   "metadata": {},
   "outputs": [],
   "source": [
    "from sklearn.model_selection import train_test_split\n",
    "from sklearn.preprocessing import StandardScaler\n",
    "from sklearn.metrics import accuracy_score\n",
    "from sklearn.feature_selection import VarianceThreshold\n",
    "from sklearn.ensemble import RandomForestClassifier\n",
    "from sklearn.feature_selection import SelectFromModel, RFECV\n",
    "from sklearn.model_selection import LearningCurveDisplay, StratifiedKFold\n",
    "from sklearn.model_selection import cross_val_score"
   ]
  },
  {
   "cell_type": "markdown",
   "id": "e88f5f24",
   "metadata": {},
   "source": [
    "## Remove Categorical Features"
   ]
  },
  {
   "cell_type": "code",
   "execution_count": 50,
   "id": "fa665dce",
   "metadata": {
    "scrolled": true
   },
   "outputs": [
    {
     "name": "stdout",
     "output_type": "stream",
     "text": [
      "<class 'pandas.core.frame.DataFrame'>\n",
      "Int64Index: 1296 entries, 0 to 1308\n",
      "Data columns (total 27 columns):\n",
      " #   Column        Non-Null Count  Dtype  \n",
      "---  ------        --------------  -----  \n",
      " 0   PassengerId   1296 non-null   int64  \n",
      " 1   Survived      1296 non-null   int64  \n",
      " 2   Pclass        1296 non-null   int64  \n",
      " 3   Name          1296 non-null   object \n",
      " 4   Sex           1296 non-null   int64  \n",
      " 5   Age           1296 non-null   float64\n",
      " 6   SibSp         1296 non-null   int64  \n",
      " 7   Parch         1296 non-null   int64  \n",
      " 8   Ticket        1296 non-null   object \n",
      " 9   Fare          1296 non-null   float64\n",
      " 10  Cabin         1296 non-null   object \n",
      " 11  Embarked      1296 non-null   int64  \n",
      " 12  Set           1296 non-null   object \n",
      " 13  Deck_B        1296 non-null   int64  \n",
      " 14  Deck_C        1296 non-null   int64  \n",
      " 15  Deck_D        1296 non-null   int64  \n",
      " 16  Deck_E        1296 non-null   int64  \n",
      " 17  Deck_F        1296 non-null   int64  \n",
      " 18  Deck_Y        1296 non-null   int64  \n",
      " 19  Deck_Z        1296 non-null   int64  \n",
      " 20  Title_Master  1296 non-null   int64  \n",
      " 21  Title_Miss    1296 non-null   int64  \n",
      " 22  Title_Mr      1296 non-null   int64  \n",
      " 23  Title_Mrs     1296 non-null   int64  \n",
      " 24  Title_Other   1296 non-null   int64  \n",
      " 25  Family        1296 non-null   int64  \n",
      " 26  HighClassF    1296 non-null   int64  \n",
      "dtypes: float64(2), int64(21), object(4)\n",
      "memory usage: 283.5+ KB\n"
     ]
    }
   ],
   "source": [
    "df_all.info()"
   ]
  },
  {
   "cell_type": "code",
   "execution_count": 51,
   "id": "1d7d5bd6",
   "metadata": {},
   "outputs": [],
   "source": [
    "# Remove Categorical Columns except Set\n",
    "df_all.drop(columns=['Name', 'Ticket', 'Cabin'], axis=1, inplace=True)"
   ]
  },
  {
   "cell_type": "markdown",
   "id": "daaa8a91",
   "metadata": {},
   "source": [
    "## Separate Data Sets"
   ]
  },
  {
   "cell_type": "code",
   "execution_count": 52,
   "id": "e05d259e",
   "metadata": {
    "scrolled": false
   },
   "outputs": [],
   "source": [
    "X_train = df_all[df_all['Set'] == 'train'].copy()\n",
    "X_test = df_all[df_all['Set'] == 'test'].copy()\n",
    "y_train = X_train['Survived'].copy().astype(int)"
   ]
  },
  {
   "cell_type": "code",
   "execution_count": 53,
   "id": "5582a2af",
   "metadata": {},
   "outputs": [],
   "source": [
    "# Keep track of PassengerId\n",
    "train_passengerids = X_train['PassengerId'].copy()\n",
    "test_passengerids = X_test['PassengerId'].copy()"
   ]
  },
  {
   "cell_type": "code",
   "execution_count": 54,
   "id": "e255ef75",
   "metadata": {},
   "outputs": [],
   "source": [
    "# Remove Set and Survived Columns\n",
    "remove_cols = ['Set', 'Survived']\n",
    "X_train.drop(columns=remove_cols, axis=1, inplace=True)\n",
    "X_test.drop(columns=remove_cols, axis=1, inplace=True)"
   ]
  },
  {
   "cell_type": "markdown",
   "id": "d63700bf",
   "metadata": {},
   "source": [
    "## Compare Dataset Distributions\n",
    "We compare the feature means and standard deviation between the training and test sets.  Any significant differences could affect the results. "
   ]
  },
  {
   "cell_type": "code",
   "execution_count": 55,
   "id": "a6187e8b",
   "metadata": {},
   "outputs": [
    {
     "data": {
      "text/html": [
       "<div>\n",
       "<style scoped>\n",
       "    .dataframe tbody tr th:only-of-type {\n",
       "        vertical-align: middle;\n",
       "    }\n",
       "\n",
       "    .dataframe tbody tr th {\n",
       "        vertical-align: top;\n",
       "    }\n",
       "\n",
       "    .dataframe thead th {\n",
       "        text-align: right;\n",
       "    }\n",
       "</style>\n",
       "<table border=\"1\" class=\"dataframe\">\n",
       "  <thead>\n",
       "    <tr style=\"text-align: right;\">\n",
       "      <th></th>\n",
       "      <th>X_train mean</th>\n",
       "      <th>X_test mean</th>\n",
       "      <th>Scaled Mean Diff</th>\n",
       "      <th>X_train std</th>\n",
       "      <th>X_test std</th>\n",
       "      <th>Scaled Std Diff</th>\n",
       "    </tr>\n",
       "  </thead>\n",
       "  <tbody>\n",
       "    <tr>\n",
       "      <th>Title_Mr</th>\n",
       "      <td>0.5761</td>\n",
       "      <td>0.5745</td>\n",
       "      <td>0.0033</td>\n",
       "      <td>0.4945</td>\n",
       "      <td>0.4950</td>\n",
       "      <td>0.0011</td>\n",
       "    </tr>\n",
       "    <tr>\n",
       "      <th>Deck_Y</th>\n",
       "      <td>0.0205</td>\n",
       "      <td>0.0192</td>\n",
       "      <td>0.0086</td>\n",
       "      <td>0.1416</td>\n",
       "      <td>0.1375</td>\n",
       "      <td>0.0292</td>\n",
       "    </tr>\n",
       "    <tr>\n",
       "      <th>Parch</th>\n",
       "      <td>0.3841</td>\n",
       "      <td>0.3942</td>\n",
       "      <td>0.0125</td>\n",
       "      <td>0.8096</td>\n",
       "      <td>0.9834</td>\n",
       "      <td>0.2147</td>\n",
       "    </tr>\n",
       "    <tr>\n",
       "      <th>Sex</th>\n",
       "      <td>0.6432</td>\n",
       "      <td>0.6370</td>\n",
       "      <td>0.0129</td>\n",
       "      <td>0.4793</td>\n",
       "      <td>0.4814</td>\n",
       "      <td>0.0044</td>\n",
       "    </tr>\n",
       "    <tr>\n",
       "      <th>Title_Master</th>\n",
       "      <td>0.0455</td>\n",
       "      <td>0.0505</td>\n",
       "      <td>0.0241</td>\n",
       "      <td>0.2084</td>\n",
       "      <td>0.2192</td>\n",
       "      <td>0.0517</td>\n",
       "    </tr>\n",
       "    <tr>\n",
       "      <th>Deck_Z</th>\n",
       "      <td>0.7739</td>\n",
       "      <td>0.7861</td>\n",
       "      <td>0.0291</td>\n",
       "      <td>0.4186</td>\n",
       "      <td>0.4106</td>\n",
       "      <td>0.0191</td>\n",
       "    </tr>\n",
       "    <tr>\n",
       "      <th>Deck_D</th>\n",
       "      <td>0.0375</td>\n",
       "      <td>0.0312</td>\n",
       "      <td>0.0329</td>\n",
       "      <td>0.1901</td>\n",
       "      <td>0.1742</td>\n",
       "      <td>0.0836</td>\n",
       "    </tr>\n",
       "    <tr>\n",
       "      <th>HighClassF</th>\n",
       "      <td>0.1068</td>\n",
       "      <td>0.1178</td>\n",
       "      <td>0.0355</td>\n",
       "      <td>0.3091</td>\n",
       "      <td>0.3227</td>\n",
       "      <td>0.0443</td>\n",
       "    </tr>\n",
       "    <tr>\n",
       "      <th>Deck_B</th>\n",
       "      <td>0.0511</td>\n",
       "      <td>0.0433</td>\n",
       "      <td>0.0357</td>\n",
       "      <td>0.2204</td>\n",
       "      <td>0.2037</td>\n",
       "      <td>0.0757</td>\n",
       "    </tr>\n",
       "    <tr>\n",
       "      <th>Deck_F</th>\n",
       "      <td>0.0148</td>\n",
       "      <td>0.0192</td>\n",
       "      <td>0.0369</td>\n",
       "      <td>0.1207</td>\n",
       "      <td>0.1375</td>\n",
       "      <td>0.1391</td>\n",
       "    </tr>\n",
       "    <tr>\n",
       "      <th>Age</th>\n",
       "      <td>28.6758</td>\n",
       "      <td>29.2103</td>\n",
       "      <td>0.0424</td>\n",
       "      <td>12.6100</td>\n",
       "      <td>12.6674</td>\n",
       "      <td>0.0046</td>\n",
       "    </tr>\n",
       "    <tr>\n",
       "      <th>Family</th>\n",
       "      <td>1.9125</td>\n",
       "      <td>1.8389</td>\n",
       "      <td>0.0454</td>\n",
       "      <td>1.6205</td>\n",
       "      <td>1.5227</td>\n",
       "      <td>0.0604</td>\n",
       "    </tr>\n",
       "    <tr>\n",
       "      <th>Deck_C</th>\n",
       "      <td>0.0670</td>\n",
       "      <td>0.0793</td>\n",
       "      <td>0.0491</td>\n",
       "      <td>0.2502</td>\n",
       "      <td>0.2706</td>\n",
       "      <td>0.0812</td>\n",
       "    </tr>\n",
       "    <tr>\n",
       "      <th>Title_Miss</th>\n",
       "      <td>0.2091</td>\n",
       "      <td>0.1875</td>\n",
       "      <td>0.0531</td>\n",
       "      <td>0.4069</td>\n",
       "      <td>0.3908</td>\n",
       "      <td>0.0396</td>\n",
       "    </tr>\n",
       "    <tr>\n",
       "      <th>Pclass</th>\n",
       "      <td>2.3159</td>\n",
       "      <td>2.2716</td>\n",
       "      <td>0.0531</td>\n",
       "      <td>0.8332</td>\n",
       "      <td>0.8393</td>\n",
       "      <td>0.0073</td>\n",
       "    </tr>\n",
       "    <tr>\n",
       "      <th>Fare</th>\n",
       "      <td>32.2454</td>\n",
       "      <td>35.0095</td>\n",
       "      <td>0.0553</td>\n",
       "      <td>49.9411</td>\n",
       "      <td>55.1963</td>\n",
       "      <td>0.1052</td>\n",
       "    </tr>\n",
       "    <tr>\n",
       "      <th>Title_Other</th>\n",
       "      <td>0.0227</td>\n",
       "      <td>0.0120</td>\n",
       "      <td>0.0718</td>\n",
       "      <td>0.1491</td>\n",
       "      <td>0.1091</td>\n",
       "      <td>0.2683</td>\n",
       "    </tr>\n",
       "    <tr>\n",
       "      <th>Deck_E</th>\n",
       "      <td>0.0352</td>\n",
       "      <td>0.0216</td>\n",
       "      <td>0.0737</td>\n",
       "      <td>0.1845</td>\n",
       "      <td>0.1457</td>\n",
       "      <td>0.2103</td>\n",
       "    </tr>\n",
       "    <tr>\n",
       "      <th>SibSp</th>\n",
       "      <td>0.5284</td>\n",
       "      <td>0.4447</td>\n",
       "      <td>0.0755</td>\n",
       "      <td>1.1081</td>\n",
       "      <td>0.8981</td>\n",
       "      <td>0.1895</td>\n",
       "    </tr>\n",
       "    <tr>\n",
       "      <th>Title_Mrs</th>\n",
       "      <td>0.1466</td>\n",
       "      <td>0.1755</td>\n",
       "      <td>0.0816</td>\n",
       "      <td>0.3539</td>\n",
       "      <td>0.3808</td>\n",
       "      <td>0.0761</td>\n",
       "    </tr>\n",
       "    <tr>\n",
       "      <th>Embarked</th>\n",
       "      <td>-0.6420</td>\n",
       "      <td>-0.5337</td>\n",
       "      <td>0.1712</td>\n",
       "      <td>0.6330</td>\n",
       "      <td>0.6864</td>\n",
       "      <td>0.0843</td>\n",
       "    </tr>\n",
       "    <tr>\n",
       "      <th>PassengerId</th>\n",
       "      <td>446.5330</td>\n",
       "      <td>1101.0769</td>\n",
       "      <td>2.5476</td>\n",
       "      <td>256.9233</td>\n",
       "      <td>120.8118</td>\n",
       "      <td>0.5298</td>\n",
       "    </tr>\n",
       "  </tbody>\n",
       "</table>\n",
       "</div>"
      ],
      "text/plain": [
       "              X_train mean  X_test mean  Scaled Mean Diff  X_train std  \\\n",
       "Title_Mr            0.5761       0.5745            0.0033       0.4945   \n",
       "Deck_Y              0.0205       0.0192            0.0086       0.1416   \n",
       "Parch               0.3841       0.3942            0.0125       0.8096   \n",
       "Sex                 0.6432       0.6370            0.0129       0.4793   \n",
       "Title_Master        0.0455       0.0505            0.0241       0.2084   \n",
       "Deck_Z              0.7739       0.7861            0.0291       0.4186   \n",
       "Deck_D              0.0375       0.0312            0.0329       0.1901   \n",
       "HighClassF          0.1068       0.1178            0.0355       0.3091   \n",
       "Deck_B              0.0511       0.0433            0.0357       0.2204   \n",
       "Deck_F              0.0148       0.0192            0.0369       0.1207   \n",
       "Age                28.6758      29.2103            0.0424      12.6100   \n",
       "Family              1.9125       1.8389            0.0454       1.6205   \n",
       "Deck_C              0.0670       0.0793            0.0491       0.2502   \n",
       "Title_Miss          0.2091       0.1875            0.0531       0.4069   \n",
       "Pclass              2.3159       2.2716            0.0531       0.8332   \n",
       "Fare               32.2454      35.0095            0.0553      49.9411   \n",
       "Title_Other         0.0227       0.0120            0.0718       0.1491   \n",
       "Deck_E              0.0352       0.0216            0.0737       0.1845   \n",
       "SibSp               0.5284       0.4447            0.0755       1.1081   \n",
       "Title_Mrs           0.1466       0.1755            0.0816       0.3539   \n",
       "Embarked           -0.6420      -0.5337            0.1712       0.6330   \n",
       "PassengerId       446.5330    1101.0769            2.5476     256.9233   \n",
       "\n",
       "              X_test std  Scaled Std Diff  \n",
       "Title_Mr          0.4950           0.0011  \n",
       "Deck_Y            0.1375           0.0292  \n",
       "Parch             0.9834           0.2147  \n",
       "Sex               0.4814           0.0044  \n",
       "Title_Master      0.2192           0.0517  \n",
       "Deck_Z            0.4106           0.0191  \n",
       "Deck_D            0.1742           0.0836  \n",
       "HighClassF        0.3227           0.0443  \n",
       "Deck_B            0.2037           0.0757  \n",
       "Deck_F            0.1375           0.1391  \n",
       "Age              12.6674           0.0046  \n",
       "Family            1.5227           0.0604  \n",
       "Deck_C            0.2706           0.0812  \n",
       "Title_Miss        0.3908           0.0396  \n",
       "Pclass            0.8393           0.0073  \n",
       "Fare             55.1963           0.1052  \n",
       "Title_Other       0.1091           0.2683  \n",
       "Deck_E            0.1457           0.2103  \n",
       "SibSp             0.8981           0.1895  \n",
       "Title_Mrs         0.3808           0.0761  \n",
       "Embarked          0.6864           0.0843  \n",
       "PassengerId     120.8118           0.5298  "
      ]
     },
     "execution_count": 55,
     "metadata": {},
     "output_type": "execute_result"
    }
   ],
   "source": [
    "# Show the difference between Train and Test means and std\n",
    "distributions = pd.DataFrame({'X_train mean': round(X_train.mean(),4), \n",
    "                              'X_test mean': round(X_test.mean(),4),\n",
    "                              'Scaled Mean Diff': round(abs(X_train.mean() - X_test.mean())/X_train.std(),4),\n",
    "                              'X_train std': round(X_train.std(),4),                              \n",
    "                              'X_test std': round(X_test.std(),4),                             \n",
    "                             'Scaled Std Diff': round(abs(X_train.std() - X_test.std())/X_train.std(),4)})\n",
    "distributions.sort_values(['Scaled Mean Diff'])"
   ]
  },
  {
   "cell_type": "code",
   "execution_count": 56,
   "id": "d2d5caad",
   "metadata": {},
   "outputs": [
    {
     "name": "stdout",
     "output_type": "stream",
     "text": [
      "Features with the highest mean difference btween train and test sets:\n",
      "['PassengerId', 'SibSp', 'Embarked', 'Deck_E', 'Title_Mrs', 'Title_Other']\n"
     ]
    }
   ],
   "source": [
    "print(\"Features with the highest mean difference btween train and test sets:\")\n",
    "print([x for x in distributions.axes[0] if distributions.loc[x,'Scaled Mean Diff'] > 0.07])"
   ]
  },
  {
   "cell_type": "markdown",
   "id": "4d2def14",
   "metadata": {},
   "source": [
    "## Scaling Features"
   ]
  },
  {
   "cell_type": "code",
   "execution_count": 57,
   "id": "455e6b99",
   "metadata": {},
   "outputs": [],
   "source": [
    "# For Gender-Based Baseline Model, need feature Sex unscaled\n",
    "train_sex = X_train['Sex'].copy()\n",
    "test_sex = X_test['Sex'].copy()\n",
    "\n",
    "# Scaled Features\n",
    "scaler = StandardScaler()\n",
    "scale_cols = X_train.columns\n",
    "X_train[scale_cols] = scaler.fit_transform(X_train[scale_cols])\n",
    "X_test[scale_cols] = scaler.transform(X_test[scale_cols])"
   ]
  },
  {
   "cell_type": "code",
   "execution_count": 58,
   "id": "af6ddf40",
   "metadata": {},
   "outputs": [
    {
     "name": "stdout",
     "output_type": "stream",
     "text": [
      "Index(['PassengerId', 'Pclass', 'Sex', 'Age', 'SibSp', 'Parch', 'Fare',\n",
      "       'Embarked', 'Deck_B', 'Deck_C', 'Deck_D', 'Deck_E', 'Deck_F', 'Deck_Y',\n",
      "       'Deck_Z', 'Title_Master', 'Title_Miss', 'Title_Mr', 'Title_Mrs',\n",
      "       'Title_Other', 'Family', 'HighClassF'],\n",
      "      dtype='object')\n"
     ]
    }
   ],
   "source": [
    "print(scale_cols)"
   ]
  },
  {
   "cell_type": "markdown",
   "id": "6f9a23ee",
   "metadata": {},
   "source": [
    "## Feature Selection\n",
    "Remove features with low correlation with survival, with high correlation with other features, and with low importance."
   ]
  },
  {
   "cell_type": "markdown",
   "id": "eeb205e1",
   "metadata": {},
   "source": [
    "### Recursive Feature Elimination For Random Forest\n",
    "Code copied from [sklearn manual on RFECV](https://scikit-learn.org/stable/auto_examples/feature_selection/plot_rfe_with_cross_validation.html#sphx-glr-auto-examples-feature-selection-plot-rfe-with-cross-validation-py)"
   ]
  },
  {
   "cell_type": "code",
   "execution_count": 59,
   "id": "7885c3a2",
   "metadata": {},
   "outputs": [
    {
     "name": "stdout",
     "output_type": "stream",
     "text": [
      "Optimal number of features: 7\n"
     ]
    }
   ],
   "source": [
    "min_features_to_select = 1 # Minimum number of features to consider\n",
    "clf = RandomForestClassifier(random_state=43)\n",
    "cv = StratifiedKFold(5, shuffle=True, random_state=43)\n",
    "\n",
    "rfecv = RFECV(\n",
    "    estimator=clf,\n",
    "    step=1,\n",
    "    cv=cv,\n",
    "    scoring=\"accuracy\",\n",
    "    min_features_to_select=min_features_to_select,\n",
    "    n_jobs=2,\n",
    ")\n",
    "rfecv.fit(X_train, y_train)\n",
    "\n",
    "print(f\"Optimal number of features: {rfecv.n_features_}\")"
   ]
  },
  {
   "cell_type": "code",
   "execution_count": 60,
   "id": "7724a615",
   "metadata": {
    "scrolled": true
   },
   "outputs": [
    {
     "data": {
      "image/png": "[encoded data removed]",
      "text/plain": [
       "<Figure size 432x288 with 1 Axes>"
      ]
     },
     "metadata": {
      "needs_background": "light"
     },
     "output_type": "display_data"
    }
   ],
   "source": [
    "n_scores = len(rfecv.cv_results_[\"mean_test_score\"])\n",
    "plt.figure()\n",
    "plt.xlabel(\"Number of features selected\")\n",
    "plt.ylabel(\"Mean cv accuracy\")\n",
    "plt.errorbar(\n",
    "    range(min_features_to_select, n_scores + min_features_to_select),\n",
    "    rfecv.cv_results_[\"mean_test_score\"],\n",
    "    yerr=rfecv.cv_results_[\"std_test_score\"],\n",
    ")\n",
    "plt.title(\"Recursive Feature Elimination \\nwith correlated features\")\n",
    "plt.show()"
   ]
  },
  {
   "cell_type": "markdown",
   "id": "6298212a",
   "metadata": {},
   "source": [
    "The optimal number of features for a Random Forest is 7.  The graph shows that any number of features greater than 7 would also work well.  We use the ranking obtained from recursive feature elimination to take the top 10 features in case the other models work better with more features."
   ]
  },
  {
   "cell_type": "code",
   "execution_count": 61,
   "id": "619dcbe2",
   "metadata": {},
   "outputs": [
    {
     "name": "stdout",
     "output_type": "stream",
     "text": [
      "Original Number of Features: 22\n",
      "Features Remaining After Masking: 10\n"
     ]
    }
   ],
   "source": [
    "cols = np.array(X_train.columns)\n",
    "print(\"Original Number of Features:\", len(cols))\n",
    "\n",
    "ranking = rfecv.ranking_\n",
    "mask = np.where(ranking < 5, True,False)\n",
    "keep_cols = cols[mask]\n",
    "print(\"Features Remaining After Masking:\", len(keep_cols))"
   ]
  },
  {
   "cell_type": "code",
   "execution_count": 62,
   "id": "78081401",
   "metadata": {},
   "outputs": [],
   "source": [
    "X_train = X_train[keep_cols]\n",
    "X_test = X_test[keep_cols]"
   ]
  },
  {
   "cell_type": "markdown",
   "id": "7ad6499d",
   "metadata": {},
   "source": [
    "# Models"
   ]
  },
  {
   "cell_type": "markdown",
   "id": "a1b8759d",
   "metadata": {},
   "source": [
    "## Import Model Libraries"
   ]
  },
  {
   "cell_type": "code",
   "execution_count": 82,
   "id": "62a1de65",
   "metadata": {},
   "outputs": [],
   "source": [
    "# Import optimization functions\n",
    "from sklearn.metrics import accuracy_score \n",
    "from sklearn.feature_selection import SelectKBest, f_regression, mutual_info_regression\n",
    "from sklearn.model_selection import GridSearchCV, RandomizedSearchCV\n",
    "from sklearn.model_selection import cross_val_score\n",
    "\n",
    "# Import classifiers\n",
    "from sklearn.naive_bayes import GaussianNB\n",
    "from sklearn.linear_model import LogisticRegression\n",
    "from sklearn.tree import DecisionTreeClassifier\n",
    "from sklearn.neighbors import KNeighborsClassifier\n",
    "from sklearn.ensemble import RandomForestClassifier\n",
    "from sklearn.svm import SVC\n",
    "from sklearn.ensemble import VotingClassifier\n",
    "from xgboost import XGBClassifier\n"
   ]
  },
  {
   "cell_type": "code",
   "execution_count": 83,
   "id": "db176491",
   "metadata": {},
   "outputs": [],
   "source": [
    "performance_df = pd.DataFrame({'Model':[], 'CV Acc': [], 'Delta1':[],\n",
    "                           'Tuned CV':[], 'Delta2':[]})"
   ]
  },
  {
   "cell_type": "markdown",
   "id": "77eb8ebc",
   "metadata": {},
   "source": [
    "### Helper Functions"
   ]
  },
  {
   "cell_type": "code",
   "execution_count": 84,
   "id": "8d58ef77",
   "metadata": {},
   "outputs": [],
   "source": [
    "# Report best parameters\n",
    "def best_params(classifier, model_name):\n",
    "    print(model_name)\n",
    "    print(\"    Best Parameters: \"+ str(classifier.best_params_))"
   ]
  },
  {
   "cell_type": "code",
   "execution_count": 85,
   "id": "9434712a",
   "metadata": {},
   "outputs": [],
   "source": [
    "# Write the prediction to a file\n",
    "def write_to_file(survival, name):\n",
    "    prediction = pd.DataFrame({'PassengerId': test_passengerids, 'Survived': survival})\n",
    "    prediction = prediction.append(outlier_predict,ignore_index=True).sort_values(['PassengerId'])\n",
    "    prediction['Survived'] = prediction['Survived'].astype(int)\n",
    "    prediction['PassengerId'] = prediction['PassengerId'].astype(int)\n",
    "    prediction.to_csv(name +'.csv', index=False)"
   ]
  },
  {
   "cell_type": "code",
   "execution_count": 86,
   "id": "0f4729d2",
   "metadata": {},
   "outputs": [],
   "source": [
    "def update_performance(model, step, name):\n",
    "    global performance_df\n",
    "    \n",
    "    # Calculate percent accuracy\n",
    "    train_per = round(accuracy_score(model.predict(X_train), y_train)*100, 2)\n",
    "    cv_list = cross_val_score(model,X_train,y_train,cv=5)\n",
    "    cv_per = round(cv_list.mean()* 100, 2)\n",
    "    delta_per = round(train_per - cv_per, 2)\n",
    "    \n",
    "    # Update performance_df\n",
    "    if step == 1:\n",
    "        performance_df = performance_df.append({'Model': name, \n",
    "                                                'CV Acc': str(cv_per)+'%',\n",
    "                                                'Delta1': str(delta_per)+'%'}, ignore_index=True)\n",
    "    elif step == 2:            \n",
    "        print(\"    CV acc:\", str(cv_per)+'%', \"Delta:\",str(round(delta_per, 2))+'%')\n",
    "        performance_df.loc[performance_df['Model'] == name, 'Tuned CV'] = str(cv_per)+'%'\n",
    "        performance_df.loc[performance_df['Model'] == name, 'Delta2'] = str(round(delta_per, 2))+'%'\n",
    "    else: # step == 3\n",
    "        performance_df = performance_df.append({'Model': name,\n",
    "                                                'Tuned CV': str(cv_per)+'%',\n",
    "                                                'Delta2': str(delta_per)+'%'}, ignore_index=True)"
   ]
  },
  {
   "cell_type": "markdown",
   "id": "521b3792",
   "metadata": {},
   "source": [
    "<a id=\"baseline\"></a>\n",
    "## Baseline: Gender-Based Model\n",
    "On the non-outliers, predict survival if the passenger is female and perished otherwise.\n",
    "This produces a baseline that all the models should beat."
   ]
  },
  {
   "cell_type": "code",
   "execution_count": 87,
   "id": "2d5d699e",
   "metadata": {},
   "outputs": [
    {
     "name": "stdout",
     "output_type": "stream",
     "text": [
      "Gender-based Baseline Accuracy: 78.52\n"
     ]
    }
   ],
   "source": [
    "# Calculate accuracy on the training set\n",
    "train_prediction = pd.DataFrame({'PassengerId': train_passengerids, \n",
    "                                 'Survived': (1- train_sex)})\n",
    "train_per = round(accuracy_score(y_train, \n",
    "                                 train_prediction['Survived'])*100, 2)\n",
    " \n",
    "# Print accuracy and save to performance_df\n",
    "print(\"Gender-based Baseline Accuracy:\", str(train_per))\n",
    "performance_df = performance_df.append({'Model':'Gender-Based', \n",
    "                                        'CV Acc': str(train_per)+'%', 'Delta1': str(0)+'%',\n",
    "                                        'Tuned CV': str(train_per)+'%', 'Delta2': str(0)+'%'}, \n",
    "                                       ignore_index=True)\n",
    "\n",
    "# Write test set prediction to file\n",
    "write_to_file(1-test_sex, \"Gender Based\")"
   ]
  },
  {
   "cell_type": "markdown",
   "id": "9c3d7afd",
   "metadata": {},
   "source": [
    "<a id=\"architecture\"></a>\n",
    "# Choose Model Architecture\n",
    "\n",
    "Model ideas from [Ken Jee](https://www.kaggle.com/code/kenjee/titanic-project-example)"
   ]
  },
  {
   "cell_type": "markdown",
   "id": "e49b9544",
   "metadata": {},
   "source": [
    "## Explore Architectures"
   ]
  },
  {
   "cell_type": "code",
   "execution_count": 88,
   "id": "6dcc944c",
   "metadata": {},
   "outputs": [],
   "source": [
    "# Models\n",
    "gnb = GaussianNB(var_smoothing=.0001)\n",
    "lr = LogisticRegression(max_iter=200, C=2.0)\n",
    "rfc = RandomForestClassifier(n_estimators=100, min_samples_leaf=0.1,\n",
    "                             max_depth=5, max_features=0.5)\n",
    "# List of Models\n",
    "classifiers = [('Gaussian NB', gnb),  ('Logistic Reg', lr), \n",
    "               ('Random Forest', rfc)]"
   ]
  },
  {
   "cell_type": "code",
   "execution_count": 89,
   "id": "64ae2480",
   "metadata": {},
   "outputs": [
    {
     "name": "stdout",
     "output_type": "stream",
     "text": [
      "LEARNING CURVES\n"
     ]
    },
    {
     "data": {
      "image/png": "[encoded data removed]",
      "text/plain": [
       "<Figure size 432x288 with 1 Axes>"
      ]
     },
     "metadata": {
      "needs_background": "light"
     },
     "output_type": "display_data"
    },
    {
     "data": {
      "image/png": "[encoded data removed]",
      "text/plain": [
       "<Figure size 432x288 with 1 Axes>"
      ]
     },
     "metadata": {
      "needs_background": "light"
     },
     "output_type": "display_data"
    },
    {
     "data": {
      "image/png": "[encoded data removed]",
      "text/plain": [
       "<Figure size 432x288 with 1 Axes>"
      ]
     },
     "metadata": {
      "needs_background": "light"
     },
     "output_type": "display_data"
    }
   ],
   "source": [
    "# Learning Curves\n",
    "print(\"LEARNING CURVES\")\n",
    "common_params = {\n",
    "    \"X\": X_train,\n",
    "    \"y\": y_train, \n",
    "    \"train_sizes\": np.linspace(0.1, 1.0, 5),\n",
    "    \"cv\": StratifiedKFold(5, shuffle=True, random_state=43),\n",
    "    \"score_type\": \"both\",\n",
    "    \"n_jobs\": 4,\n",
    "    \"line_kw\": {\"marker\": \"o\"},\n",
    "    \"std_display_style\": \"fill_between\",\n",
    "    \"score_name\": \"Accuracy\"\n",
    "}\n",
    "\n",
    "for name, classifier in classifiers:\n",
    "    LearningCurveDisplay.from_estimator(classifier, **common_params)\n",
    "    plt.title(\"Learning Curve for \" + name)\n",
    "    plt.legend([\"Training Score\", \"Test Score\"])\n",
    "    plt.grid()\n",
    "    plt.show()"
   ]
  },
  {
   "cell_type": "code",
   "execution_count": 90,
   "id": "23135e2a",
   "metadata": {
    "scrolled": true
   },
   "outputs": [],
   "source": [
    "for name, classifier in classifiers:\n",
    "    \n",
    "    # Fit each model to the training data (without outliers) \n",
    "    model = classifier\n",
    "    model.fit(X_train, y_train)\n",
    "    \n",
    "    # Update the performance_df\n",
    "    update_performance(model, 1, name)   "
   ]
  },
  {
   "cell_type": "code",
   "execution_count": 91,
   "id": "d94cab51",
   "metadata": {},
   "outputs": [
    {
     "data": {
      "text/html": [
       "<div>\n",
       "<style scoped>\n",
       "    .dataframe tbody tr th:only-of-type {\n",
       "        vertical-align: middle;\n",
       "    }\n",
       "\n",
       "    .dataframe tbody tr th {\n",
       "        vertical-align: top;\n",
       "    }\n",
       "\n",
       "    .dataframe thead th {\n",
       "        text-align: right;\n",
       "    }\n",
       "</style>\n",
       "<table border=\"1\" class=\"dataframe\">\n",
       "  <thead>\n",
       "    <tr style=\"text-align: right;\">\n",
       "      <th></th>\n",
       "      <th>Model</th>\n",
       "      <th>CV Acc</th>\n",
       "      <th>Delta1</th>\n",
       "      <th>Tuned CV</th>\n",
       "      <th>Delta2</th>\n",
       "    </tr>\n",
       "  </thead>\n",
       "  <tbody>\n",
       "    <tr>\n",
       "      <th>0</th>\n",
       "      <td>Gender-Based</td>\n",
       "      <td>78.52%</td>\n",
       "      <td>0%</td>\n",
       "      <td>78.52%</td>\n",
       "      <td>0%</td>\n",
       "    </tr>\n",
       "    <tr>\n",
       "      <th>3</th>\n",
       "      <td>Random Forest</td>\n",
       "      <td>78.52%</td>\n",
       "      <td>0.68%</td>\n",
       "      <td>NaN</td>\n",
       "      <td>NaN</td>\n",
       "    </tr>\n",
       "    <tr>\n",
       "      <th>1</th>\n",
       "      <td>Gaussian NB</td>\n",
       "      <td>78.64%</td>\n",
       "      <td>0.0%</td>\n",
       "      <td>NaN</td>\n",
       "      <td>NaN</td>\n",
       "    </tr>\n",
       "    <tr>\n",
       "      <th>2</th>\n",
       "      <td>Logistic Reg</td>\n",
       "      <td>81.14%</td>\n",
       "      <td>0.91%</td>\n",
       "      <td>NaN</td>\n",
       "      <td>NaN</td>\n",
       "    </tr>\n",
       "  </tbody>\n",
       "</table>\n",
       "</div>"
      ],
      "text/plain": [
       "           Model  CV Acc Delta1 Tuned CV Delta2\n",
       "0   Gender-Based  78.52%     0%   78.52%     0%\n",
       "3  Random Forest  78.52%  0.68%      NaN    NaN\n",
       "1    Gaussian NB  78.64%   0.0%      NaN    NaN\n",
       "2   Logistic Reg  81.14%  0.91%      NaN    NaN"
      ]
     },
     "execution_count": 91,
     "metadata": {},
     "output_type": "execute_result"
    }
   ],
   "source": [
    "performance_df.sort_values(['CV Acc'])  "
   ]
  },
  {
   "cell_type": "code",
   "execution_count": 92,
   "id": "b6abd0fd",
   "metadata": {},
   "outputs": [
    {
     "name": "stdout",
     "output_type": "stream",
     "text": [
      "    CV acc: 79.77% Delta: 0.57%\n"
     ]
    }
   ],
   "source": [
    "# This voting classifier averages the results of the other models\n",
    "voting_clf = VotingClassifier(estimators = classifiers, voting='soft')\n",
    "voting_clf.fit(X_train,y_train)\n",
    "update_performance(voting_clf, 1, \"VotingBasic\")\n",
    "update_performance(voting_clf, 2, \"VotingBasic\")\n",
    "\n",
    "# Predict voting values on X_test\n",
    "base_voting_predict = voting_clf.predict(X_test).astype(int)\n",
    "\n",
    "# Write test set prediction to file\n",
    "write_to_file(base_voting_predict, \"VotingBasic\")"
   ]
  },
  {
   "cell_type": "code",
   "execution_count": 93,
   "id": "c5c5c0f4",
   "metadata": {},
   "outputs": [
    {
     "data": {
      "text/html": [
       "<div>\n",
       "<style scoped>\n",
       "    .dataframe tbody tr th:only-of-type {\n",
       "        vertical-align: middle;\n",
       "    }\n",
       "\n",
       "    .dataframe tbody tr th {\n",
       "        vertical-align: top;\n",
       "    }\n",
       "\n",
       "    .dataframe thead th {\n",
       "        text-align: right;\n",
       "    }\n",
       "</style>\n",
       "<table border=\"1\" class=\"dataframe\">\n",
       "  <thead>\n",
       "    <tr style=\"text-align: right;\">\n",
       "      <th></th>\n",
       "      <th>Model</th>\n",
       "      <th>CV Acc</th>\n",
       "      <th>Delta1</th>\n",
       "      <th>Tuned CV</th>\n",
       "      <th>Delta2</th>\n",
       "    </tr>\n",
       "  </thead>\n",
       "  <tbody>\n",
       "    <tr>\n",
       "      <th>0</th>\n",
       "      <td>Gender-Based</td>\n",
       "      <td>78.52%</td>\n",
       "      <td>0%</td>\n",
       "      <td>78.52%</td>\n",
       "      <td>0%</td>\n",
       "    </tr>\n",
       "    <tr>\n",
       "      <th>3</th>\n",
       "      <td>Random Forest</td>\n",
       "      <td>78.52%</td>\n",
       "      <td>0.68%</td>\n",
       "      <td>NaN</td>\n",
       "      <td>NaN</td>\n",
       "    </tr>\n",
       "    <tr>\n",
       "      <th>1</th>\n",
       "      <td>Gaussian NB</td>\n",
       "      <td>78.64%</td>\n",
       "      <td>0.0%</td>\n",
       "      <td>NaN</td>\n",
       "      <td>NaN</td>\n",
       "    </tr>\n",
       "    <tr>\n",
       "      <th>4</th>\n",
       "      <td>VotingBasic</td>\n",
       "      <td>79.55%</td>\n",
       "      <td>0.79%</td>\n",
       "      <td>79.77%</td>\n",
       "      <td>0.57%</td>\n",
       "    </tr>\n",
       "    <tr>\n",
       "      <th>2</th>\n",
       "      <td>Logistic Reg</td>\n",
       "      <td>81.14%</td>\n",
       "      <td>0.91%</td>\n",
       "      <td>NaN</td>\n",
       "      <td>NaN</td>\n",
       "    </tr>\n",
       "  </tbody>\n",
       "</table>\n",
       "</div>"
      ],
      "text/plain": [
       "           Model  CV Acc Delta1 Tuned CV Delta2\n",
       "0   Gender-Based  78.52%     0%   78.52%     0%\n",
       "3  Random Forest  78.52%  0.68%      NaN    NaN\n",
       "1    Gaussian NB  78.64%   0.0%      NaN    NaN\n",
       "4    VotingBasic  79.55%  0.79%   79.77%  0.57%\n",
       "2   Logistic Reg  81.14%  0.91%      NaN    NaN"
      ]
     },
     "execution_count": 93,
     "metadata": {},
     "output_type": "execute_result"
    }
   ],
   "source": [
    "performance_df.sort_values(['CV Acc'])"
   ]
  },
  {
   "cell_type": "code",
   "execution_count": 94,
   "id": "29b23722",
   "metadata": {},
   "outputs": [],
   "source": [
    "# Predict voting values on X_test\n",
    "voting_prediction = voting_clf.predict(X_test).astype(int)\n",
    "write_to_file(voting_prediction, 'Voting')"
   ]
  },
  {
   "cell_type": "markdown",
   "id": "525f2357",
   "metadata": {},
   "source": [
    "## Fine-tune Models"
   ]
  },
  {
   "cell_type": "markdown",
   "id": "e45adae2",
   "metadata": {},
   "source": [
    "### Fine-Tune Parameters"
   ]
  },
  {
   "cell_type": "code",
   "execution_count": 95,
   "id": "acd10bbf",
   "metadata": {},
   "outputs": [],
   "source": [
    "gnb_params = {'var_smoothing': np.logspace(0,-9, num=10)}\n",
    "lr_params = {'solver':['liblinear', 'lbfgs'],\n",
    "             'max_iter' : [150, 200, 250], \n",
    "             'penalty' : ['l2'], \n",
    "             'C' : [0.5, 1.0, 2.0]} \n",
    "rf_params =  {'n_estimators': [100, 400],\n",
    "               'max_depth': [10, None],\n",
    "               'max_features': ['sqrt', 10],\n",
    "               'min_samples_leaf': [1, 2]}\n",
    "param_list = [gnb_params, lr_params, rf_params]\n",
    "model_dict = {}"
   ]
  },
  {
   "cell_type": "markdown",
   "id": "31188ca5",
   "metadata": {},
   "source": [
    "### Fine-Tune Models"
   ]
  },
  {
   "cell_type": "code",
   "execution_count": 96,
   "id": "ed059e2a",
   "metadata": {},
   "outputs": [
    {
     "name": "stdout",
     "output_type": "stream",
     "text": [
      "Gaussian NB\n",
      "    Best Parameters: {'var_smoothing': 0.01}\n",
      "    CV acc: 78.52% Delta: 0.12%\n",
      "    Train acc: 78.52 % CV acc: 79.43 % Delta: 13.64 %\n",
      "Logistic Reg\n",
      "    Best Parameters: {'C': 0.5, 'max_iter': 150, 'penalty': 'l2', 'solver': 'liblinear'}\n",
      "    CV acc: 81.14% Delta: 0.79%\n",
      "    Train acc: 78.52 % CV acc: 79.43 % Delta: 13.64 %\n",
      "Random Forest\n",
      "    Best Parameters: {'max_depth': None, 'max_features': 'sqrt', 'min_samples_leaf': 2, 'n_estimators': 400}\n",
      "    CV acc: 82.73% Delta: 10.79%\n",
      "    Train acc: 78.52 % CV acc: 79.43 % Delta: 13.64 %\n"
     ]
    }
   ],
   "source": [
    "for i in range(len(classifiers)):\n",
    "    name, classifier = classifiers[i]\n",
    "    params = param_list[i]\n",
    "    \n",
    "    # Fit the model\n",
    "    clf = GridSearchCV(classifier, param_grid = params, cv = 5, n_jobs = -1)\n",
    "    best_clf = clf.fit(X_train, y_train)\n",
    "    \n",
    "    # Record the model\n",
    "    model_dict[name] = best_clf    \n",
    "    best_params(best_clf, name)\n",
    "    \n",
    "    # Save accuracy results and print\n",
    "    update_performance(best_clf, 2, name)\n",
    "    print(\"    Train acc:\", str(train_per),\"% CV acc:\", str(cv_per), \"% Delta:\",str(round(delta_per, 2)), '%')\n",
    "\n",
    "    # Write prediction to file\n",
    "    y_hat = best_clf.predict(X_test).astype(int)\n",
    "    write_to_file(y_hat, 'predict_'+ name)"
   ]
  },
  {
   "cell_type": "code",
   "execution_count": 97,
   "id": "504bf287",
   "metadata": {},
   "outputs": [
    {
     "data": {
      "text/html": [
       "<div>\n",
       "<style scoped>\n",
       "    .dataframe tbody tr th:only-of-type {\n",
       "        vertical-align: middle;\n",
       "    }\n",
       "\n",
       "    .dataframe tbody tr th {\n",
       "        vertical-align: top;\n",
       "    }\n",
       "\n",
       "    .dataframe thead th {\n",
       "        text-align: right;\n",
       "    }\n",
       "</style>\n",
       "<table border=\"1\" class=\"dataframe\">\n",
       "  <thead>\n",
       "    <tr style=\"text-align: right;\">\n",
       "      <th></th>\n",
       "      <th>Model</th>\n",
       "      <th>CV Acc</th>\n",
       "      <th>Delta1</th>\n",
       "      <th>Tuned CV</th>\n",
       "      <th>Delta2</th>\n",
       "    </tr>\n",
       "  </thead>\n",
       "  <tbody>\n",
       "    <tr>\n",
       "      <th>0</th>\n",
       "      <td>Gender-Based</td>\n",
       "      <td>78.52%</td>\n",
       "      <td>0%</td>\n",
       "      <td>78.52%</td>\n",
       "      <td>0%</td>\n",
       "    </tr>\n",
       "    <tr>\n",
       "      <th>1</th>\n",
       "      <td>Gaussian NB</td>\n",
       "      <td>78.64%</td>\n",
       "      <td>0.0%</td>\n",
       "      <td>78.52%</td>\n",
       "      <td>0.12%</td>\n",
       "    </tr>\n",
       "    <tr>\n",
       "      <th>4</th>\n",
       "      <td>VotingBasic</td>\n",
       "      <td>79.55%</td>\n",
       "      <td>0.79%</td>\n",
       "      <td>79.77%</td>\n",
       "      <td>0.57%</td>\n",
       "    </tr>\n",
       "    <tr>\n",
       "      <th>2</th>\n",
       "      <td>Logistic Reg</td>\n",
       "      <td>81.14%</td>\n",
       "      <td>0.91%</td>\n",
       "      <td>81.14%</td>\n",
       "      <td>0.79%</td>\n",
       "    </tr>\n",
       "    <tr>\n",
       "      <th>3</th>\n",
       "      <td>Random Forest</td>\n",
       "      <td>78.52%</td>\n",
       "      <td>0.68%</td>\n",
       "      <td>82.73%</td>\n",
       "      <td>10.79%</td>\n",
       "    </tr>\n",
       "  </tbody>\n",
       "</table>\n",
       "</div>"
      ],
      "text/plain": [
       "           Model  CV Acc Delta1 Tuned CV  Delta2\n",
       "0   Gender-Based  78.52%     0%   78.52%      0%\n",
       "1    Gaussian NB  78.64%   0.0%   78.52%   0.12%\n",
       "4    VotingBasic  79.55%  0.79%   79.77%   0.57%\n",
       "2   Logistic Reg  81.14%  0.91%   81.14%   0.79%\n",
       "3  Random Forest  78.52%  0.68%   82.73%  10.79%"
      ]
     },
     "execution_count": 97,
     "metadata": {},
     "output_type": "execute_result"
    }
   ],
   "source": [
    "performance_df.sort_values(['Tuned CV'])"
   ]
  },
  {
   "cell_type": "markdown",
   "id": "a65a882b",
   "metadata": {},
   "source": [
    "## Ensemble Models"
   ]
  },
  {
   "cell_type": "markdown",
   "id": "4e3a1f31",
   "metadata": {},
   "source": [
    "### Voting on the Tuned Models"
   ]
  },
  {
   "cell_type": "code",
   "execution_count": 98,
   "id": "81a8710e",
   "metadata": {},
   "outputs": [
    {
     "name": "stdout",
     "output_type": "stream",
     "text": [
      "    CV acc: 81.02% Delta: 3.87%\n"
     ]
    }
   ],
   "source": [
    "# Choose voting model based on top three classifiers\n",
    "estimators = [(name, model_dict[name].best_estimator_) for name, _ in classifiers]\n",
    "voting_clf = VotingClassifier(estimators = estimators, voting = 'soft') \n",
    "\n",
    "# Fit model\n",
    "voting_clf.fit(X_train,y_train)\n",
    "\n",
    "# Update performance_df\n",
    "update_performance(voting_clf, 2, name)\n",
    "\n",
    "# Write prediction on test set to file\n",
    "y_hat = voting_clf.predict(X_test).astype(int)\n",
    "write_to_file(y_hat, \"VotingTuned\")"
   ]
  },
  {
   "cell_type": "markdown",
   "id": "74f94699",
   "metadata": {},
   "source": [
    "### Grid Search Voting on the Tuned Models"
   ]
  },
  {
   "cell_type": "code",
   "execution_count": 99,
   "id": "f6d8cb6a",
   "metadata": {},
   "outputs": [
    {
     "name": "stdout",
     "output_type": "stream",
     "text": [
      "VotingWeighted\n",
      "    Best Parameters: {'weights': [1, 2, 2]}\n"
     ]
    }
   ],
   "source": [
    "# Use a grid search to optimize weighting in voting classifier\n",
    "params = {'weights' : [[1,1,1],[1,2,1],[1,1,2],\n",
    "                       [2,1,1],[2,2,1],[1,2,2],[2,1,2]]}\n",
    "\n",
    "# Fit model\n",
    "voting_clf2 = GridSearchCV(voting_clf, param_grid = params, cv = 5, n_jobs = -1)\n",
    "voting_clf2.fit(X_train, y_train)\n",
    "\n",
    "# Update performance\n",
    "best_params(voting_clf2, \"VotingWeighted\")\n",
    "update_performance(voting_clf2, 3, \"VotingWeighted\")\n",
    "\n",
    "# Write prediction on test set to file\n",
    "y_hat = voting_clf2.predict(X_test).astype(int)\n",
    "write_to_file(y_hat, \"VotingWeighted\")"
   ]
  },
  {
   "cell_type": "code",
   "execution_count": 100,
   "id": "4c4db4c8",
   "metadata": {},
   "outputs": [
    {
     "data": {
      "text/html": [
       "<div>\n",
       "<style scoped>\n",
       "    .dataframe tbody tr th:only-of-type {\n",
       "        vertical-align: middle;\n",
       "    }\n",
       "\n",
       "    .dataframe tbody tr th {\n",
       "        vertical-align: top;\n",
       "    }\n",
       "\n",
       "    .dataframe thead th {\n",
       "        text-align: right;\n",
       "    }\n",
       "</style>\n",
       "<table border=\"1\" class=\"dataframe\">\n",
       "  <thead>\n",
       "    <tr style=\"text-align: right;\">\n",
       "      <th></th>\n",
       "      <th>Model</th>\n",
       "      <th>CV Acc</th>\n",
       "      <th>Delta1</th>\n",
       "      <th>Tuned CV</th>\n",
       "      <th>Delta2</th>\n",
       "    </tr>\n",
       "  </thead>\n",
       "  <tbody>\n",
       "    <tr>\n",
       "      <th>0</th>\n",
       "      <td>Gender-Based</td>\n",
       "      <td>78.52%</td>\n",
       "      <td>0%</td>\n",
       "      <td>78.52%</td>\n",
       "      <td>0%</td>\n",
       "    </tr>\n",
       "    <tr>\n",
       "      <th>1</th>\n",
       "      <td>Gaussian NB</td>\n",
       "      <td>78.64%</td>\n",
       "      <td>0.0%</td>\n",
       "      <td>78.52%</td>\n",
       "      <td>0.12%</td>\n",
       "    </tr>\n",
       "    <tr>\n",
       "      <th>4</th>\n",
       "      <td>VotingBasic</td>\n",
       "      <td>79.55%</td>\n",
       "      <td>0.79%</td>\n",
       "      <td>79.77%</td>\n",
       "      <td>0.57%</td>\n",
       "    </tr>\n",
       "    <tr>\n",
       "      <th>3</th>\n",
       "      <td>Random Forest</td>\n",
       "      <td>78.52%</td>\n",
       "      <td>0.68%</td>\n",
       "      <td>81.02%</td>\n",
       "      <td>3.87%</td>\n",
       "    </tr>\n",
       "    <tr>\n",
       "      <th>2</th>\n",
       "      <td>Logistic Reg</td>\n",
       "      <td>81.14%</td>\n",
       "      <td>0.91%</td>\n",
       "      <td>81.14%</td>\n",
       "      <td>0.79%</td>\n",
       "    </tr>\n",
       "    <tr>\n",
       "      <th>5</th>\n",
       "      <td>VotingWeighted</td>\n",
       "      <td>NaN</td>\n",
       "      <td>NaN</td>\n",
       "      <td>82.05%</td>\n",
       "      <td>4.31%</td>\n",
       "    </tr>\n",
       "  </tbody>\n",
       "</table>\n",
       "</div>"
      ],
      "text/plain": [
       "            Model  CV Acc Delta1 Tuned CV Delta2\n",
       "0    Gender-Based  78.52%     0%   78.52%     0%\n",
       "1     Gaussian NB  78.64%   0.0%   78.52%  0.12%\n",
       "4     VotingBasic  79.55%  0.79%   79.77%  0.57%\n",
       "3   Random Forest  78.52%  0.68%   81.02%  3.87%\n",
       "2    Logistic Reg  81.14%  0.91%   81.14%  0.79%\n",
       "5  VotingWeighted     NaN    NaN   82.05%  4.31%"
      ]
     },
     "execution_count": 100,
     "metadata": {},
     "output_type": "execute_result"
    }
   ],
   "source": [
    "performance_df.sort_values(\"Tuned CV\")"
   ]
  }
 ],
 "metadata": {
  "kernelspec": {
   "display_name": "Python 3 (ipykernel)",
   "language": "python",
   "name": "python3"
  },
  "language_info": {
   "codemirror_mode": {
    "name": "ipython",
    "version": 3
   },
   "file_extension": ".py",
   "mimetype": "text/x-python",
   "name": "python",
   "nbconvert_exporter": "python",
   "pygments_lexer": "ipython3",
   "version": "3.10.6"
  }
 },
 "nbformat": 4,
 "nbformat_minor": 5
}
