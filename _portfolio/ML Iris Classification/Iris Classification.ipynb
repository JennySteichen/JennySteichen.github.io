{
 "cells": [
  {
   "cell_type": "markdown",
   "id": "89f53acc",
   "metadata": {},
   "source": [
    "# Project Iris\n",
    "Use a [Multilayer Perceptron](https://scikit-learn.org/stable/modules/neural_networks_supervised.html) in machine learning to do Multiclass Classification to predict the type of iris from the flower's attributes."
   ]
  },
  {
   "cell_type": "markdown",
   "id": "e4f1ce16",
   "metadata": {},
   "source": [
    "## Import Libraries and Data\n",
    "The [Iris Data Set](http://archive.ics.uci.edu/ml/datasets/Iris) contains attribute information for 150 irises.  The attributes are: sepal length, sepal width, petal length, petal width, and class (Iris Setosa, Iris vericolour, or Iris Virginica).  The measurements are all in cemtimeters.\n",
    "\n",
    "### Importing Libraries"
   ]
  },
  {
   "cell_type": "code",
   "execution_count": 1,
   "id": "d687f074",
   "metadata": {},
   "outputs": [],
   "source": [
    "# We import pandas for dataframes\n",
    "import pandas as pd\n",
    "\n",
    "# Import NumPy for math functions and calculations\n",
    "import numpy as np\n",
    "\n",
    "# Import from sklearn library for machine learning\n",
    "from sklearn.model_selection import train_test_split   # for splitting the dataset\n",
    "from sklearn.neural_network import MLPClassifier       # the main model library\n",
    "from sklearn.metrics import accuracy_score             # to calculate error\n",
    "from sklearn.preprocessing import StandardScaler       # to normalize/feature-scale data\n",
    "\n",
    "# Import Operating System functions for finding the local directory\n",
    "import os\n",
    "\n",
    "# Import plotting library to display data\n",
    "from matplotlib import pyplot as plt"
   ]
  },
  {
   "cell_type": "markdown",
   "id": "687df84c",
   "metadata": {},
   "source": [
    "### Importing Data"
   ]
  },
  {
   "cell_type": "code",
   "execution_count": 2,
   "id": "119003a5",
   "metadata": {},
   "outputs": [],
   "source": [
    "# Find the notebook directory path\n",
    "# This is the directory where the iris.data file should be\n",
    "notebook_path = os.path.abspath(\"Iris Classification.ipyb\")\n",
    "data_file = os.path.join(os.path.dirname(notebook_path), \"iris.data\")\n",
    "\n",
    "# Read in dataset\n",
    "iris_data = pd.read_csv(data_file, header=None)"
   ]
  },
  {
   "cell_type": "markdown",
   "id": "e753e80b",
   "metadata": {},
   "source": [
    "## Explore the Data"
   ]
  },
  {
   "cell_type": "code",
   "execution_count": 3,
   "id": "24261742",
   "metadata": {},
   "outputs": [
    {
     "name": "stdout",
     "output_type": "stream",
     "text": [
      "     0    1    2    3            4\n",
      "0  5.1  3.5  1.4  0.2  Iris-setosa\n",
      "1  4.9  3.0  1.4  0.2  Iris-setosa\n",
      "2  4.7  3.2  1.3  0.2  Iris-setosa\n",
      "3  4.6  3.1  1.5  0.2  Iris-setosa\n",
      "4  5.0  3.6  1.4  0.2  Iris-setosa\n"
     ]
    }
   ],
   "source": [
    "# Print a selection from the data frame\n",
    "print(iris_data.head())"
   ]
  },
  {
   "cell_type": "markdown",
   "id": "07f61d32",
   "metadata": {},
   "source": [
    "### Change Column Names"
   ]
  },
  {
   "cell_type": "code",
   "execution_count": 16,
   "id": "7a77b426",
   "metadata": {},
   "outputs": [
    {
     "name": "stdout",
     "output_type": "stream",
     "text": [
      "   sepal len  sepal width  petal len  petal width     iristype  iris num\n",
      "0        5.1          3.5        1.4          0.2  Iris-setosa         1\n",
      "1        4.9          3.0        1.4          0.2  Iris-setosa         1\n",
      "2        4.7          3.2        1.3          0.2  Iris-setosa         1\n",
      "3        4.6          3.1        1.5          0.2  Iris-setosa         1\n",
      "4        5.0          3.6        1.4          0.2  Iris-setosa         1\n"
     ]
    }
   ],
   "source": [
    "# Add meaningful column names\n",
    "iris_data.rename(columns = {0:\"sepal len\", 1:'sepal width', 2:'petal len', \n",
    "                            3:'petal width', 4:'iristype'},inplace=True)\n",
    "print(iris_data.head())"
   ]
  },
  {
   "cell_type": "markdown",
   "id": "fca68e9d",
   "metadata": {},
   "source": [
    "### Check Data Statistics\n",
    "Rough way to compare the distributions in each column."
   ]
  },
  {
   "cell_type": "code",
   "execution_count": 5,
   "id": "86bf74f7",
   "metadata": {},
   "outputs": [
    {
     "name": "stdout",
     "output_type": "stream",
     "text": [
      "Maximums: \n"
     ]
    },
    {
     "data": {
      "text/plain": [
       "sepal len      4.3\n",
       "sepal width    2.0\n",
       "petal len      1.0\n",
       "petal width    0.1\n",
       "dtype: float64"
      ]
     },
     "execution_count": 5,
     "metadata": {},
     "output_type": "execute_result"
    }
   ],
   "source": [
    "feature_columns = [\"sepal len\", 'sepal width', 'petal len', 'petal width']\n",
    "print(\"Maximums: \")\n",
    "iris_data[feature_columns].min()"
   ]
  },
  {
   "cell_type": "code",
   "execution_count": 6,
   "id": "c524b834",
   "metadata": {},
   "outputs": [
    {
     "name": "stdout",
     "output_type": "stream",
     "text": [
      "Minimums: \n"
     ]
    },
    {
     "data": {
      "text/plain": [
       "sepal len      4.3\n",
       "sepal width    2.0\n",
       "petal len      1.0\n",
       "petal width    0.1\n",
       "dtype: float64"
      ]
     },
     "execution_count": 6,
     "metadata": {},
     "output_type": "execute_result"
    }
   ],
   "source": [
    "print(\"Minimums: \")\n",
    "iris_data[feature_columns].min()"
   ]
  },
  {
   "cell_type": "code",
   "execution_count": 7,
   "id": "a2c2dc76",
   "metadata": {},
   "outputs": [
    {
     "name": "stdout",
     "output_type": "stream",
     "text": [
      "Means: \n"
     ]
    },
    {
     "data": {
      "text/plain": [
       "sepal len      5.843333\n",
       "sepal width    3.054000\n",
       "petal len      3.758667\n",
       "petal width    1.198667\n",
       "dtype: float64"
      ]
     },
     "execution_count": 7,
     "metadata": {},
     "output_type": "execute_result"
    }
   ],
   "source": [
    "print(\"Means: \")\n",
    "iris_data[feature_columns].mean()"
   ]
  },
  {
   "cell_type": "markdown",
   "id": "22d04b1c",
   "metadata": {},
   "source": [
    "### Display the Data"
   ]
  },
  {
   "cell_type": "code",
   "execution_count": 20,
   "id": "fae3108f",
   "metadata": {},
   "outputs": [
    {
     "data": {
      "image/png": "[encoded data removed]",
      "text/plain": [
       "<Figure size 432x288 with 1 Axes>"
      ]
     },
     "metadata": {
      "needs_background": "light"
     },
     "output_type": "display_data"
    },
    {
     "data": {
      "image/png": "[encoded data removed]",
      "text/plain": [
       "<Figure size 432x288 with 1 Axes>"
      ]
     },
     "metadata": {
      "needs_background": "light"
     },
     "output_type": "display_data"
    }
   ],
   "source": [
    "# Split the data into multiple data frames based on the type of iris\n",
    "setosas = iris_data[iris_data['iristype'] == 'Iris-setosa']\n",
    "versicolors = iris_data[iris_data['iristype'] == 'Iris-versicolor']\n",
    "virginicas = iris_data[iris_data['iristype'] == 'Iris-virginica']\n",
    "\n",
    "# Function to plot iris_data using only two features (columns) and three colors\n",
    "def plot_2d(x_str, y_str):\n",
    "    ax = setosas.plot(x=x_str, y=y_str, kind='scatter',c='r',label='Iris setosa')\n",
    "    versicolors.plot(x=x_str, y=y_str, kind='scatter', ax=ax, c='g', label='Iris versicolor')\n",
    "    virginicas.plot(x=x_str, y=y_str,kind='scatter', ax=ax, c='b', label='Iris virginica')\n",
    "    plt.title(\"Iris Dataset\")\n",
    "    # plt.show()\n",
    "    plt.savefig(\"iris_data_scatterplot.png\")\n",
    "\n",
    "# Plot two features against each other in scatter plots\n",
    "plot_2d('sepal len', 'sepal width')\n",
    "plot_2d('sepal len', 'petal len')\n"
   ]
  },
  {
   "cell_type": "markdown",
   "id": "0af67786",
   "metadata": {},
   "source": [
    "## Wrangle the Data\n",
    "Edit the data to prepare for developing the maching learning model"
   ]
  },
  {
   "cell_type": "markdown",
   "id": "33b9d99d",
   "metadata": {},
   "source": [
    "### Correct Data Errors\n",
    "The Iris dataset has [errors in two lines](http://archive.ics.uci.edu/ml/datasets/Iris).  \"The 35th sample should be: 4.9,3.1,1.5,0.2,\"Iris-setosa\" where the error is in the fourth feature. The 38th sample: 4.9,3.6,1.4,0.1,\"Iris-setosa\" where the errors are in the second and third features.\"\n",
    "We fix those errors below.  Since the numbering in Python starts at 0, we change the 34th and 37th lines of the data."
   ]
  },
  {
   "cell_type": "code",
   "execution_count": 9,
   "id": "5004a15d",
   "metadata": {},
   "outputs": [
    {
     "name": "stdout",
     "output_type": "stream",
     "text": [
      "    sepal len  sepal width  petal len  petal width     iristype\n",
      "34        4.9          3.1        1.5          0.2  Iris-setosa\n",
      "35        5.0          3.2        1.2          0.2  Iris-setosa\n",
      "36        5.5          3.5        1.3          0.2  Iris-setosa\n",
      "37        4.9          3.6        1.4          0.1  Iris-setosa\n",
      "38        4.4          3.0        1.3          0.2  Iris-setosa\n"
     ]
    }
   ],
   "source": [
    "# Correcting the two errors in the data\n",
    "iris_data.loc[34,'petal width'] = 0.2\n",
    "iris_data.loc[37, 'sepal width'] = 3.6\n",
    "iris_data.loc[37, 'petal len'] = 1.4\n",
    "print(iris_data.loc[34:38,:])"
   ]
  },
  {
   "cell_type": "markdown",
   "id": "8be224b9",
   "metadata": {},
   "source": [
    "\n",
    "### Replace Categorical Label\n",
    "We replace the categorical variable \"iristype\" with a numeric variable \"iris num\". "
   ]
  },
  {
   "cell_type": "code",
   "execution_count": 10,
   "id": "93a20082",
   "metadata": {},
   "outputs": [
    {
     "name": "stdout",
     "output_type": "stream",
     "text": [
      "['Iris-setosa' 'Iris-versicolor' 'Iris-virginica']\n",
      "     sepal len  sepal width  petal len  petal width        iristype  iris num\n",
      "0          5.1          3.5        1.4          0.2     Iris-setosa         1\n",
      "1          4.9          3.0        1.4          0.2     Iris-setosa         1\n",
      "2          4.7          3.2        1.3          0.2     Iris-setosa         1\n",
      "3          4.6          3.1        1.5          0.2     Iris-setosa         1\n",
      "4          5.0          3.6        1.4          0.2     Iris-setosa         1\n",
      "..         ...          ...        ...          ...             ...       ...\n",
      "145        6.7          3.0        5.2          2.3  Iris-virginica         3\n",
      "146        6.3          2.5        5.0          1.9  Iris-virginica         3\n",
      "147        6.5          3.0        5.2          2.0  Iris-virginica         3\n",
      "148        6.2          3.4        5.4          2.3  Iris-virginica         3\n",
      "149        5.9          3.0        5.1          1.8  Iris-virginica         3\n",
      "\n",
      "[150 rows x 6 columns]\n"
     ]
    }
   ],
   "source": [
    "# Before converting column iristype to 'iris num', we check the set of column values.\n",
    "print(iris_data.iristype.unique())\n",
    "\n",
    "# Add a new column to iris_data called \"iris num\" that represents \"iris type\" as a number\n",
    "iris_type_dict = {'Iris-setosa':1, 'Iris-versicolor':2, 'Iris-virginica':3}\n",
    "iris_data['iris num'] = iris_data['iristype'].map(iris_type_dict)\n",
    "print(iris_data)"
   ]
  },
  {
   "cell_type": "markdown",
   "id": "791e3a3f",
   "metadata": {},
   "source": [
    "### Divide into variables and labels\n",
    "We want the data in the form of a matrix X (the first four numberic columns of the data) \n",
    "and y (the iris num column)."
   ]
  },
  {
   "cell_type": "code",
   "execution_count": 11,
   "id": "fd0bd49e",
   "metadata": {},
   "outputs": [],
   "source": [
    "y = pd.DataFrame(iris_data, columns=['iris num'])\n",
    "X = pd.DataFrame(iris_data, columns=feature_columns)"
   ]
  },
  {
   "cell_type": "markdown",
   "id": "22ebf8c9",
   "metadata": {},
   "source": [
    "### Divide data into train and test sets\n",
    "We divide the data into training (80%) and test (20%) sets."
   ]
  },
  {
   "cell_type": "code",
   "execution_count": 12,
   "id": "54f577bc",
   "metadata": {},
   "outputs": [],
   "source": [
    "X_train, X_test, y_train, y_test = train_test_split(X, y, test_size=0.2, random_state=1)"
   ]
  },
  {
   "cell_type": "markdown",
   "id": "47f61ce0",
   "metadata": {},
   "source": [
    "## Define the Model\n",
    "We use a multi-class classifier [MLPClasifier](https://scikit-learn.org/stable/modules/neural_networks_supervised.html) with 2 hidden layers, each with 7 nodes each."
   ]
  },
  {
   "cell_type": "code",
   "execution_count": 13,
   "id": "52dd11f4",
   "metadata": {},
   "outputs": [
    {
     "data": {
      "text/html": [
       "<style>#sk-container-id-1 {color: black;background-color: white;}#sk-container-id-1 pre{padding: 0;}#sk-container-id-1 div.sk-toggleable {background-color: white;}#sk-container-id-1 label.sk-toggleable__label {cursor: pointer;display: block;width: 100%;margin-bottom: 0;padding: 0.3em;box-sizing: border-box;text-align: center;}#sk-container-id-1 label.sk-toggleable__label-arrow:before {content: \"▸\";float: left;margin-right: 0.25em;color: #696969;}#sk-container-id-1 label.sk-toggleable__label-arrow:hover:before {color: black;}#sk-container-id-1 div.sk-estimator:hover label.sk-toggleable__label-arrow:before {color: black;}#sk-container-id-1 div.sk-toggleable__content {max-height: 0;max-width: 0;overflow: hidden;text-align: left;background-color: #f0f8ff;}#sk-container-id-1 div.sk-toggleable__content pre {margin: 0.2em;color: black;border-radius: 0.25em;background-color: #f0f8ff;}#sk-container-id-1 input.sk-toggleable__control:checked~div.sk-toggleable__content {max-height: 200px;max-width: 100%;overflow: auto;}#sk-container-id-1 input.sk-toggleable__control:checked~label.sk-toggleable__label-arrow:before {content: \"▾\";}#sk-container-id-1 div.sk-estimator input.sk-toggleable__control:checked~label.sk-toggleable__label {background-color: #d4ebff;}#sk-container-id-1 div.sk-label input.sk-toggleable__control:checked~label.sk-toggleable__label {background-color: #d4ebff;}#sk-container-id-1 input.sk-hidden--visually {border: 0;clip: rect(1px 1px 1px 1px);clip: rect(1px, 1px, 1px, 1px);height: 1px;margin: -1px;overflow: hidden;padding: 0;position: absolute;width: 1px;}#sk-container-id-1 div.sk-estimator {font-family: monospace;background-color: #f0f8ff;border: 1px dotted black;border-radius: 0.25em;box-sizing: border-box;margin-bottom: 0.5em;}#sk-container-id-1 div.sk-estimator:hover {background-color: #d4ebff;}#sk-container-id-1 div.sk-parallel-item::after {content: \"\";width: 100%;border-bottom: 1px solid gray;flex-grow: 1;}#sk-container-id-1 div.sk-label:hover label.sk-toggleable__label {background-color: #d4ebff;}#sk-container-id-1 div.sk-serial::before {content: \"\";position: absolute;border-left: 1px solid gray;box-sizing: border-box;top: 0;bottom: 0;left: 50%;z-index: 0;}#sk-container-id-1 div.sk-serial {display: flex;flex-direction: column;align-items: center;background-color: white;padding-right: 0.2em;padding-left: 0.2em;position: relative;}#sk-container-id-1 div.sk-item {position: relative;z-index: 1;}#sk-container-id-1 div.sk-parallel {display: flex;align-items: stretch;justify-content: center;background-color: white;position: relative;}#sk-container-id-1 div.sk-item::before, #sk-container-id-1 div.sk-parallel-item::before {content: \"\";position: absolute;border-left: 1px solid gray;box-sizing: border-box;top: 0;bottom: 0;left: 50%;z-index: -1;}#sk-container-id-1 div.sk-parallel-item {display: flex;flex-direction: column;z-index: 1;position: relative;background-color: white;}#sk-container-id-1 div.sk-parallel-item:first-child::after {align-self: flex-end;width: 50%;}#sk-container-id-1 div.sk-parallel-item:last-child::after {align-self: flex-start;width: 50%;}#sk-container-id-1 div.sk-parallel-item:only-child::after {width: 0;}#sk-container-id-1 div.sk-dashed-wrapped {border: 1px dashed gray;margin: 0 0.4em 0.5em 0.4em;box-sizing: border-box;padding-bottom: 0.4em;background-color: white;}#sk-container-id-1 div.sk-label label {font-family: monospace;font-weight: bold;display: inline-block;line-height: 1.2em;}#sk-container-id-1 div.sk-label-container {text-align: center;}#sk-container-id-1 div.sk-container {/* jupyter's `normalize.less` sets `[hidden] { display: none; }` but bootstrap.min.css set `[hidden] { display: none !important; }` so we also need the `!important` here to be able to override the default hidden behavior on the sphinx rendered scikit-learn.org. See: https://github.com/scikit-learn/scikit-learn/issues/21755 */display: inline-block !important;position: relative;}#sk-container-id-1 div.sk-text-repr-fallback {display: none;}</style><div id=\"sk-container-id-1\" class=\"sk-top-container\"><div class=\"sk-text-repr-fallback\"><pre>MLPClassifier(hidden_layer_sizes=(7, 2), random_state=100, solver=&#x27;lbfgs&#x27;)</pre><b>In a Jupyter environment, please rerun this cell to show the HTML representation or trust the notebook. <br />On GitHub, the HTML representation is unable to render, please try loading this page with nbviewer.org.</b></div><div class=\"sk-container\" hidden><div class=\"sk-item\"><div class=\"sk-estimator sk-toggleable\"><input class=\"sk-toggleable__control sk-hidden--visually\" id=\"sk-estimator-id-1\" type=\"checkbox\" checked><label for=\"sk-estimator-id-1\" class=\"sk-toggleable__label sk-toggleable__label-arrow\">MLPClassifier</label><div class=\"sk-toggleable__content\"><pre>MLPClassifier(hidden_layer_sizes=(7, 2), random_state=100, solver=&#x27;lbfgs&#x27;)</pre></div></div></div></div></div>"
      ],
      "text/plain": [
       "MLPClassifier(hidden_layer_sizes=(7, 2), random_state=100, solver='lbfgs')"
      ]
     },
     "execution_count": 13,
     "metadata": {},
     "output_type": "execute_result"
    }
   ],
   "source": [
    "# Initialize classifier\n",
    "clf = MLPClassifier(solver='lbfgs', hidden_layer_sizes=(7, 2), random_state=100)\n",
    "\n",
    "# Train the classifier\n",
    "clf.fit(X_train, y_train.values.ravel())"
   ]
  },
  {
   "cell_type": "markdown",
   "id": "59bc94c9",
   "metadata": {},
   "source": [
    "## Evaluate Model"
   ]
  },
  {
   "cell_type": "code",
   "execution_count": 14,
   "id": "54e4807a",
   "metadata": {},
   "outputs": [],
   "source": [
    "# Make predictions\n",
    "y_predicted = clf.predict(X_test)"
   ]
  },
  {
   "cell_type": "code",
   "execution_count": 17,
   "id": "6e6bd8f1",
   "metadata": {},
   "outputs": [
    {
     "name": "stdout",
     "output_type": "stream",
     "text": [
      "100%\n"
     ]
    }
   ],
   "source": [
    "# Evaluate accuracy\n",
    "print(\"{0:.0%}\".format(accuracy_score(y_test, y_predicted)))"
   ]
  },
  {
   "cell_type": "markdown",
   "id": "40b63c65",
   "metadata": {},
   "source": [
    "## Conclusion\n",
    "The choice of architechture (2 hidden layers with 7 nodes in each layer) was arbitrary.  While the accuracy is high on this small set, the model could be improved if you had more data to test on.  One way to improve the model is to create a series of models with different learning rates and hidden layer sizes.  Train each model on the test set, then decide between the models using a validation set."
   ]
  }
 ],
 "metadata": {
  "kernelspec": {
   "display_name": "Python 3 (ipykernel)",
   "language": "python",
   "name": "python3"
  },
  "language_info": {
   "codemirror_mode": {
    "name": "ipython",
    "version": 3
   },
   "file_extension": ".py",
   "mimetype": "text/x-python",
   "name": "python",
   "nbconvert_exporter": "python",
   "pygments_lexer": "ipython3",
   "version": "3.10.6"
  }
 },
 "nbformat": 4,
 "nbformat_minor": 5
}
