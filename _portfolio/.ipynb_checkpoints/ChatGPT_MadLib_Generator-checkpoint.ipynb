{
 "cells": [
  {
   "cell_type": "markdown",
   "metadata": {},
   "source": [
    "# Creating Mad Libs with ChatGPT\n",
    "\n",
    "[Mad Libs](https://en.wikipedia.org/wiki/Mad_Libs) is a party game for lightening up family holidays, baby showers, and more.  Each game consists of a short story with many key words replace by blanks.  To play the game, one person, the “writer”, goes through each blank in the story and and asks the rest of the players to give a noun, verb, place, etc that is indicated by the blank.  When all the blanks are filled, the completed story is read aloud.  The resulting story is usually silly, comical, or surreal.  \n",
    "\n",
    "[OpenAI’s ChatGPT](https://openai.com/blog/chatgpt/) has been in the news – teachers are afraid that students will use it to write their essays, it can pass exams, and people use it to write their resumes.  \n",
    "\n",
    "I wondered if ChatGPT could be funny. Can ChatGPT create a short, silly story like the Mad Libs stories?  This is a description of my exploration of that question."
   ]
  },
  {
   "cell_type": "markdown",
   "metadata": {},
   "source": [
    "## Example Mad Lib\n",
    "Run the cell below to see a sample Mad Lib downloaded from the site https://www.madlibs.com/printables/\n",
    "This is what I want ChatGPT to create: a short story with blanks with captions.  The blanks are frequent enough to make the resulting story interesting after other players give words to fill in the blanks."
   ]
  },
  {
   "cell_type": "code",
   "execution_count": 1,
   "metadata": {},
   "outputs": [
    {
     "data": {
      "text/html": [
       "\n",
       "        <iframe\n",
       "            width=\"600\"\n",
       "            height=\"400\"\n",
       "            src=\"../images/VacationFun_ML_2009_pg15.pdf\"\n",
       "            frameborder=\"0\"\n",
       "            allowfullscreen\n",
       "            \n",
       "        ></iframe>\n",
       "        "
      ],
      "text/plain": [
       "<IPython.lib.display.IFrame at 0x7f7a69b53700>"
      ]
     },
     "execution_count": 1,
     "metadata": {},
     "output_type": "execute_result"
    }
   ],
   "source": [
    "from IPython.display import IFrame\n",
    "IFrame(\"../images/VacationFun_ML_2009_pg15.pdf\", width=600, height=400)"
   ]
  },
  {
   "cell_type": "markdown",
   "metadata": {},
   "source": [
    "## Import Libraries and Access API Key"
   ]
  },
  {
   "cell_type": "code",
   "execution_count": 2,
   "metadata": {},
   "outputs": [],
   "source": [
    "# Import openai to access ChatGPT\n",
    "import openai\n",
    "\n",
    "# To wrap the text nicely on the screen\n",
    "import textwrap\n",
    "\n",
    "# For accessing an environmental variable\n",
    "import os"
   ]
  },
  {
   "cell_type": "markdown",
   "metadata": {},
   "source": [
    "To run ChatGPT in this notebook, you need an OpenAI API key.  \n",
    "To get a key: [open an account at OpenAI](https://auth0.openai.com/u/signup/), then click on your profile at the top right.  Select “View API keys.\"  Then, either use one of your existing keys or create a new one by clicking on “Create new secret key.\" \n",
    "\n",
    "Once you have a key, save is as the environmental variable [OPENAI_API_KEY](https://help.openai.com/en/articles/5112595-best-practices-for-api-key-safety)"
   ]
  },
  {
   "cell_type": "code",
   "execution_count": 3,
   "metadata": {},
   "outputs": [],
   "source": [
    "# Read the key from the environmental variable OPENAI_API_KEY\n",
    "openai.api_key = os.environ['OPENAI_API_KEY']"
   ]
  },
  {
   "cell_type": "markdown",
   "metadata": {},
   "source": [
    "## Creating A Mad Lib With Different Prompts\n",
    "\n",
    "I experimented with different prompts to get example MadLibs created by ChatGPT.  We pass each prompt to the following create_mad_lib function."
   ]
  },
  {
   "cell_type": "markdown",
   "metadata": {},
   "source": [
    "### Create Mad Lib Function\n",
    "\n",
    "This create_mad_libs function creates a Mad Lib using ChatGPT based on the prompt_text.   We will later call this function with different prompts to see samples of the output. \n",
    "\n",
    "The current function returns the same story for a given prompt.  If you'd like to see random stories using the same prompt, then change the temperature value on line 8 to 0.7 instead of 1 below.  Once you make this change, you can run the cells with prompts repeatedly to get different mad libs as output."
   ]
  },
  {
   "cell_type": "code",
   "execution_count": 4,
   "metadata": {},
   "outputs": [],
   "source": [
    "# We will later call this function with different prompts\n",
    "# This function calls ChatGPT to \n",
    "def create_mad_lib(prompt_text):\n",
    "    \n",
    "    # Get the openAI ChatGPT object\n",
    "    completion = openai.Completion.create(model=\"text-davinci-003\",\n",
    "             prompt=prompt_text,\n",
    "             max_tokens=1000, temperature=1)\n",
    "\n",
    "    # Print story\n",
    "    print(textwrap.fill(completion.choices[0].text))"
   ]
  },
  {
   "cell_type": "markdown",
   "metadata": {},
   "source": [
    "-----\n",
    "\n",
    "## Exploring Prompts\n",
    "We explore the results obtained by varying the prompts (known as [Prompt Engineering](https://www.linkedin.com/pulse/prompt-engineering-101-introduction-resources-amatriain/)) to \n",
    "obtain a story that seems the closest to an original Mad Lib in terms of story length, appropriately captionned blank spaces, density of blanks, and interesting story."
   ]
  },
  {
   "cell_type": "markdown",
   "metadata": {},
   "source": [
    "\n",
    "### First Prompt: Write a Mad Lib"
   ]
  },
  {
   "cell_type": "markdown",
   "metadata": {},
   "source": [
    "The first prompt was a basic \"Write a Mad Lib.\"  "
   ]
  },
  {
   "cell_type": "code",
   "execution_count": 5,
   "metadata": {},
   "outputs": [
    {
     "name": "stdout",
     "output_type": "stream",
     "text": [
      "  Once upon a <adjective> time there lived a <adjective> princess who\n",
      "loved to <verb> in the <noun>. Every day she would <verb> with the\n",
      "<noun> animals, especially the <adjective> <animal>. She named him\n",
      "<name>. One day, <name> invited her on a <adjective> journey to\n",
      "discover the <noun>. As they <verb>, they encountered many <plural\n",
      "noun> and <plural noun>, but no <noun>. They both felt <emotion> until\n",
      "they finally stumbled upon the <noun>. From then on, the princess and\n",
      "her <animal> companion lived <adverb> ever after.\n"
     ]
    }
   ],
   "source": [
    "mad_lib_prompt_1 = \"Write a Mad Lib.\"\n",
    "create_mad_lib(mad_lib_prompt_1)"
   ]
  },
  {
   "cell_type": "markdown",
   "metadata": {},
   "source": [
    "With this prompt, there have been a variety of results. The resulting story tends to be under 8 sentences long, which is a good length.  However, sometimes the story has no blanks; sometimes some of the blanks are filled in.  The stories tend to be a bit bland and start with \"Once Upon a Time.\""
   ]
  },
  {
   "cell_type": "markdown",
   "metadata": {},
   "source": [
    "### Second Prompt: Write a Mad Lib that is an adventure"
   ]
  },
  {
   "cell_type": "markdown",
   "metadata": {},
   "source": [
    "To fix the issue of bland stories, the second prompt added \"that is an adventure.\"  "
   ]
  },
  {
   "cell_type": "code",
   "execution_count": 6,
   "metadata": {
    "scrolled": true
   },
   "outputs": [
    {
     "name": "stdout",
     "output_type": "stream",
     "text": [
      "  Once upon a time, there was a (adjective) little hero called (name)\n",
      "who was on an incredible (noun) adventure. Along the way, (name)\n",
      "encountered (number) (adjective) monsters and slew them with a\n",
      "(adjective) (noun). Suddenly, (name) noticed a (adjective) castle in\n",
      "the distance and decided to investigate. Inside the castle, (name)\n",
      "came face-to-face with a (adjective) dragon that was guarding a\n",
      "(noun). Not feared by the dragon, (name) bravely declared that they\n",
      "would take the (noun). The dragon agreed, and (name) won (adjective)\n",
      "treasure to take back home. After (name)'s amazing adventure, everyone\n",
      "in the kingdom rejoiced and sang (name)'s (adjective) praises.   The\n",
      "end.\n"
     ]
    }
   ],
   "source": [
    "mad_lib_prompt_2 = \"Write a Mad Lib that is an adventure.\"\n",
    "create_mad_lib(mad_lib_prompt_2)"
   ]
  },
  {
   "cell_type": "markdown",
   "metadata": {},
   "source": [
    "The resulting story is long for a standard Mad Lib.  It has the same trouble with prompts as with the first prompt.  The stories are more interesting than in the first case, but the stories tend to start with \"Once Upon a Time.\""
   ]
  },
  {
   "cell_type": "markdown",
   "metadata": {},
   "source": [
    "\n",
    "### Third Prompt: Multiple Sentences Describing Blanks"
   ]
  },
  {
   "cell_type": "markdown",
   "metadata": {},
   "source": [
    "To correct the problems with captionned blanks, I added more sentences of detail.  The prompt is now: \n",
    "\"Write a mad lib that is an adventure.  The result should have 15 blanks.  Each blank should be labeled with part of speech like: _________ (adjective).\""
   ]
  },
  {
   "cell_type": "code",
   "execution_count": 7,
   "metadata": {},
   "outputs": [
    {
     "name": "stdout",
     "output_type": "stream",
     "text": [
      "  Once upon a time, there was a brave _________ (adjective) knight who\n",
      "wanted to go on a great adventure. He packed _________ (adjective)\n",
      "food, _________ (noun) money, and _________ (adjective) clothing, and\n",
      "set out in the morning light.   Within a few days, he had arrived at a\n",
      "dark and _________ (adjective) castle. All was silent until suddenly,\n",
      "he heard a loud _________ (noun). It was coming from inside the castle\n",
      "walls!   He pushed open the _________ (adjective) door and was\n",
      "immediately surrounded by a group of unfriendly _________ (plural\n",
      "noun). In the center of the group was a _________ (adjective) dragon,\n",
      "which was the source of the noise.   The dragon spoke: \"You trespass\n",
      "on my _________ (noun) and will now have to answer a _________ (noun)\n",
      "to prove that you are worthy to enter.”   The knight thought for a\n",
      "moment and then answered the _________ (noun) correctly. The dragon\n",
      "was much too _________ (adjective) to admit it, but it let him in.\n",
      "The knight went on to find out that the castle was an important part\n",
      "of his adventure.  It was a beginning of a brand new _________ (noun)!\n"
     ]
    }
   ],
   "source": [
    "mad_lib_prompt_3 = \"Write a Mad Lib that is an adventure.  The result should have 15 blanks.  Each blank should\" \\\n",
    "              \"be labeled with part of speech like: _________ (adjective).\"\n",
    "create_mad_lib(mad_lib_prompt_3)"
   ]
  },
  {
   "cell_type": "markdown",
   "metadata": {},
   "source": [
    "The result does not always have 15 blanks; sometimes it only has 13.  Each blank is appropriately labeled.  The story is interesting and does not start with \"Once Upon a Time.\" However, it is longer than a standard Mad Lib"
   ]
  },
  {
   "cell_type": "code",
   "execution_count": 8,
   "metadata": {},
   "outputs": [],
   "source": [
    "### Fourth Prompt: Building on the Third Prompt"
   ]
  },
  {
   "cell_type": "code",
   "execution_count": 9,
   "metadata": {},
   "outputs": [
    {
     "name": "stdout",
     "output_type": "stream",
     "text": [
      "  We set off on an exciting _________ (adjective)  adventure. As we\n",
      "walked, we encountered a mysterious _________ (noun). It was an old\n",
      "_________ (noun). We opened it and discovered a hidden _________\n",
      "(noun)! Inside, we found a _________ (adjective) map that revealed an\n",
      "ancient _________ (noun)! Tracing the map, we found our way to a\n",
      "_________ (adjective) cave. Inside, we discovered a locked _________\n",
      "(noun). After some creative work, we opened the _________ (noun) and\n",
      "freed a legendary _________ (noun). As a reward for our good deed, the\n",
      "_________ (noun) gave us _________ (plural noun). Our adventure was an\n",
      "unbelievable success!\n"
     ]
    }
   ],
   "source": [
    "mad_lib_prompt_4 = \"Write a Mad Lib that is an adventure.  The result should have 15 blanks.  Each blank should\" \\\n",
    "        \"be labeled with part of speech like: _________ (adjective).  The result should have 8 or fewer sentences.\"\n",
    "create_mad_lib(mad_lib_prompt_4)"
   ]
  },
  {
   "cell_type": "markdown",
   "metadata": {},
   "source": [
    "We finally have a short story with appropriately labeled blanks, good spacing between the blanks, and an appropriate length."
   ]
  },
  {
   "cell_type": "markdown",
   "metadata": {},
   "source": [
    "## Conclusion\n",
    "The responses from ChatGPT can change over time -- ChatGPT may adapt to new information and training.  Rerunning the code could produce different results than I recieved on March 20, 2023.  \n",
    "\n",
    "However, with Generative Models in general and ChatGPT in particular, the prompt matters.\n",
    "\n",
    "While I judged the created Mad Libs from my experience with my experience with the original Mad Libs, a future \n",
    "study could include objective measures to compare the results.  Given a database of Mad Libs, we could compare number of sentences, number of blanks, and density of blanks.  Objective measurements of humor would be more difficult."
   ]
  }
 ],
 "metadata": {
  "anaconda-cloud": {},
  "kernelspec": {
   "display_name": "Python 3 (ipykernel)",
   "language": "python",
   "name": "python3"
  },
  "language_info": {
   "codemirror_mode": {
    "name": "ipython",
    "version": 3
   },
   "file_extension": ".py",
   "mimetype": "text/x-python",
   "name": "python",
   "nbconvert_exporter": "python",
   "pygments_lexer": "ipython3",
   "version": "3.10.6"
  }
 },
 "nbformat": 4,
 "nbformat_minor": 1
}
